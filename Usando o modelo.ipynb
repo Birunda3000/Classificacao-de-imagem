{
 "cells": [
  {
   "cell_type": "code",
   "execution_count": 1,
   "metadata": {},
   "outputs": [],
   "source": [
    "import tensorflow as tf\n",
    "import utils_img_rec as ut\n",
    "import pickle\n",
    "import cv2\n",
    "import numpy as np\n",
    "import matplotlib.pyplot as plt\n",
    "from tensorflow.keras.models import Model\n",
    "import pathlib"
   ]
  },
  {
   "cell_type": "markdown",
   "metadata": {},
   "source": [
    "### Definindo variaveis"
   ]
  },
  {
   "cell_type": "code",
   "execution_count": 2,
   "metadata": {},
   "outputs": [],
   "source": [
    "DATA_DIR  = '../bases/pickle/imagens/mnist/mnist-train-pickle.pickle'\n",
    "TEST2_DIR = '../bases/dados/imagens/teste2/amostra-numerica'\n",
    "formato = 'jpg'\n",
    "IMG_SIZE = 28\n",
    "\n",
    "DATA_DIR = pathlib.Path(DATA_DIR)\n",
    "TEST2_DIR = pathlib.Path(TEST2_DIR)\n",
    "\n",
    "pickle_in = open(DATA_DIR,\"rb\")\n",
    "data_train = pickle.load(pickle_in)"
   ]
  },
  {
   "cell_type": "markdown",
   "metadata": {},
   "source": [
    "### Definindo categorias"
   ]
  },
  {
   "cell_type": "code",
   "execution_count": 3,
   "metadata": {},
   "outputs": [
    {
     "name": "stdout",
     "output_type": "stream",
     "text": [
      "['0', '1', '2', '3', '4', '5', '6', '7', '8', '9']\n"
     ]
    }
   ],
   "source": [
    "#CATEGORIES = []\n",
    "CATEGORIES = ut.get_classes(data_train)\n",
    "CATEGORIES.sort()\n",
    "try:\n",
    "    CATEGORIES.remove('.ipynb_checkpoints')\n",
    "except:\n",
    "    pass\n",
    "print(CATEGORIES)"
   ]
  },
  {
   "cell_type": "markdown",
   "metadata": {},
   "source": [
    "### Carregando o modelo"
   ]
  },
  {
   "cell_type": "code",
   "execution_count": 4,
   "metadata": {},
   "outputs": [],
   "source": [
    "model = tf.keras.models.load_model('../modelos_salvos/tensorflow/modelo.h5')"
   ]
  },
  {
   "cell_type": "code",
   "execution_count": 5,
   "metadata": {},
   "outputs": [],
   "source": [
    "def prepare(filepath):\n",
    "    img_array = cv2.imread(filepath, cv2.IMREAD_GRAYSCALE)\n",
    "    new_array = cv2.resize(img_array, (IMG_SIZE, IMG_SIZE))\n",
    "    return new_array, new_array.reshape(-1, IMG_SIZE, IMG_SIZE, 1)\n",
    "\n",
    "def plot_image(prediction_array, true_label, img):\n",
    "    plt.grid(False)\n",
    "    plt.xticks([])\n",
    "    plt.yticks([])\n",
    "    plt.imshow(img, cmap='gray')\n",
    "    predicted_label = np.argmax(prediction_array)        \n",
    "    if predicted_label == true_label:\n",
    "        color = 'green'\n",
    "    else:\n",
    "        color = 'red'\n",
    "    plt.xlabel(\"Classe - {} | {:2.0f}% (true class {})\".format(CATEGORIES[predicted_label], 100*np.max(prediction_array), CATEGORIES[true_label]), color=color)\n",
    "\n",
    "def plot_value_array(prediction_array, true_label):\n",
    "    plt.grid(False)\n",
    "    plt.xticks([])\n",
    "    plt.yticks([])\n",
    "    thisplot = plt.bar(range(len(CATEGORIES)), prediction_array, color= \"#777777\")\n",
    "    plt.ylim([0, 1])\n",
    "    predicted_label = np.argmax(prediction_array)\n",
    "\n",
    "    thisplot[predicted_label].set_color('red')\n",
    "    print(CATEGORIES[true_label])\n",
    "    thisplot[true_label].set_color('green')"
   ]
  },
  {
   "cell_type": "code",
   "execution_count": 6,
   "metadata": {},
   "outputs": [
    {
     "ename": "TypeError",
     "evalue": "unsupported operand type(s) for +: 'PosixPath' and 'str'",
     "output_type": "error",
     "traceback": [
      "\u001b[0;31m---------------------------------------------------------------------------\u001b[0m",
      "\u001b[0;31mTypeError\u001b[0m                                 Traceback (most recent call last)",
      "\u001b[0;32m<ipython-input-6-fb59a46fd8ba>\u001b[0m in \u001b[0;36m<module>\u001b[0;34m\u001b[0m\n\u001b[1;32m      3\u001b[0m     \u001b[0mtrue_label_num\u001b[0m \u001b[0;34m=\u001b[0m \u001b[0mCATEGORIES\u001b[0m\u001b[0;34m.\u001b[0m\u001b[0mindex\u001b[0m \u001b[0;34m(\u001b[0m\u001b[0mcategory\u001b[0m\u001b[0;34m)\u001b[0m\u001b[0;34m\u001b[0m\u001b[0;34m\u001b[0m\u001b[0m\n\u001b[1;32m      4\u001b[0m \u001b[0;34m\u001b[0m\u001b[0m\n\u001b[0;32m----> 5\u001b[0;31m     \u001b[0mDIR\u001b[0m \u001b[0;34m=\u001b[0m \u001b[0mTEST2_DIR\u001b[0m \u001b[0;34m+\u001b[0m \u001b[0;34m'/previsao '\u001b[0m \u001b[0;34m+\u001b[0m \u001b[0;34m'('\u001b[0m \u001b[0;34m+\u001b[0m \u001b[0mcategory\u001b[0m \u001b[0;34m+\u001b[0m \u001b[0;34m').'\u001b[0m \u001b[0;34m+\u001b[0m \u001b[0mformato\u001b[0m\u001b[0;34m\u001b[0m\u001b[0;34m\u001b[0m\u001b[0m\n\u001b[0m\u001b[1;32m      6\u001b[0m \u001b[0;34m\u001b[0m\u001b[0m\n\u001b[1;32m      7\u001b[0m     \u001b[0mxp\u001b[0m\u001b[0;34m,\u001b[0m \u001b[0mXp\u001b[0m \u001b[0;34m=\u001b[0m \u001b[0mprepare\u001b[0m\u001b[0;34m(\u001b[0m\u001b[0mDIR\u001b[0m\u001b[0;34m)\u001b[0m\u001b[0;34m\u001b[0m\u001b[0;34m\u001b[0m\u001b[0m\n",
      "\u001b[0;31mTypeError\u001b[0m: unsupported operand type(s) for +: 'PosixPath' and 'str'"
     ]
    }
   ],
   "source": [
    "for category in CATEGORIES:\n",
    "\n",
    "    true_label_num = CATEGORIES.index (category)\n",
    "    \n",
    "    DIR = TEST2_DIR + '/previsao ' + '(' + category + ').' + formato\n",
    "\n",
    "    xp, Xp = prepare(DIR)\n",
    "    Xp=np.array(Xp/255.0)\n",
    "    prediction = model.predict( Xp )\n",
    "    prev = prediction[0]\n",
    "\n",
    "    plt.figure(figsize=(6,3))\n",
    "    plt.subplot(1,2,1)\n",
    "\n",
    "    plot_image(prediction[0], true_label_num, xp)\n",
    "    plt.subplot(1,2,2)\n",
    "    plot_value_array(prediction[0],  true_label_num)\n",
    "    plt.show()\n",
    "\n",
    "    for i in range( len(prev) ):\n",
    "        print( 'Classe - {} | Confiança - {} %'.format(CATEGORIES[i], np.round(prev[i]*100, 2) ) )\n",
    "\n",
    "    inp = model.inputs \n",
    "    \n",
    "    k=0\n",
    "    for layer in model.layers:\n",
    "        if 'conv' in layer.name: \n",
    "            fig= plt.figure(figsize=(5,5))\n",
    "            out = layer.output\n",
    "            feature_map = Model(inputs= inp, outputs= out)\n",
    "            f = feature_map.predict(Xp)\n",
    "              \n",
    "            feature_map.summary()\n",
    "            \n",
    "            print('Ativação na {}° camada'.format(k+1))\n",
    "\n",
    "            for i in range(f.shape[3]):\n",
    "\n",
    "                p = f[0,:,:,i]\n",
    "\n",
    "                ax = fig.add_subplot(8,8,i+1)\n",
    "                ax.imshow(p, cmap='gray')\n",
    "\n",
    "            plt.show()\n",
    "        k=k+1\n",
    "    print('\\n\\n\\n')"
   ]
  }
 ],
 "metadata": {
  "kernelspec": {
   "display_name": "Python 3",
   "language": "python",
   "name": "python3"
  },
  "language_info": {
   "codemirror_mode": {
    "name": "ipython",
    "version": 3
   },
   "file_extension": ".py",
   "mimetype": "text/x-python",
   "name": "python",
   "nbconvert_exporter": "python",
   "pygments_lexer": "ipython3",
   "version": "3.6.9"
  }
 },
 "nbformat": 4,
 "nbformat_minor": 4
}
