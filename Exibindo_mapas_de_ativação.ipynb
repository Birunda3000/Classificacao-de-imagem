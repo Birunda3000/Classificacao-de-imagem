{
 "cells": [
  {
   "cell_type": "code",
   "execution_count": 1,
   "metadata": {},
   "outputs": [],
   "source": [
    "import tensorflow as tf\n",
    "import utils_img_rec as ut\n",
    "import pickle\n",
    "import cv2\n",
    "import numpy as np\n",
    "import matplotlib.pyplot as plt\n",
    "from tensorflow.keras.models import Model\n",
    "import pathlib\n",
    "\n",
    "from operator import itemgetter"
   ]
  },
  {
   "cell_type": "markdown",
   "metadata": {},
   "source": [
    "### Definindo variaveis"
   ]
  },
  {
   "cell_type": "code",
   "execution_count": null,
   "metadata": {},
   "outputs": [],
   "source": [
    "DATA_DIR  = '../_DATA_/image/pickle/cifar10-test-pickle.pickle'\n",
    "TEST2_DIR = '../_DATA_/image/cifar10/test2'\n",
    "\n",
    "#DATA_DIR  = '../bases/pickle/imagens/mnist/mnist-test-pickle.pickle'\n",
    "#TEST2_DIR = '../bases/dados/imagens/teste2/amostra-numerica'\n",
    "\n",
    "formato = 'jpg'\n",
    "IMG_SIZE = 32\n",
    "numero_de_canais = 3\n",
    "\n",
    "#DATA_DIR = pathlib.Path(DATA_DIR)\n",
    "#TEST2_DIR = pathlib.Path(TEST2_DIR)\n",
    "\n",
    "pickle_in = open(DATA_DIR,\"rb\")\n",
    "data_train = pickle.load(pickle_in)\n",
    "\n",
    "model = tf.keras.models.load_model('../modelos_salvos/tensorflow/modelo_cifar10-EPOCHS=150 - acc = 0.94578 exec_time - t-train230.8541.h5')\n",
    "model.summary()\n",
    "#model = tf.keras.models.load_model('../modelos_salvos/tensorflow/modelo.h5')"
   ]
  },
  {
   "cell_type": "markdown",
   "metadata": {},
   "source": [
    "### Definindo categorias"
   ]
  },
  {
   "cell_type": "code",
   "execution_count": null,
   "metadata": {},
   "outputs": [],
   "source": [
    "#CATEGORIES = []\n",
    "CATEGORIES = ut.get_classes(data_train)\n",
    "CATEGORIES.sort()\n",
    "try:\n",
    "    CATEGORIES.remove('.ipynb_checkpoints')\n",
    "except:\n",
    "    pass\n",
    "print(CATEGORIES)"
   ]
  },
  {
   "cell_type": "markdown",
   "metadata": {},
   "source": [
    "### Preparando dados"
   ]
  },
  {
   "cell_type": "code",
   "execution_count": null,
   "metadata": {},
   "outputs": [],
   "source": [
    "def prepare(filepath):\n",
    "    if numero_de_canais == 1:\n",
    "        img_array = cv2.imread(filepath, cv2.IMREAD_GRAYSCALE)\n",
    "    else:\n",
    "        img_array = cv2.imread(filepath, cv2.IMREAD_COLOR)\n",
    "        img_array = cv2.cvtColor(img_array, cv2.COLOR_BGR2RGB)\n",
    "    \n",
    "    new_array = cv2.resize(img_array, (IMG_SIZE, IMG_SIZE))\n",
    "    return new_array, new_array.reshape(-1, IMG_SIZE, IMG_SIZE, numero_de_canais)\n",
    "\n",
    "def plot_image(prediction_array, true_label, img):\n",
    "    plt.grid(False)\n",
    "    plt.xticks([])\n",
    "    plt.yticks([])\n",
    "    plt.imshow(img, cmap='gray')\n",
    "    predicted_label = np.argmax(prediction_array)        \n",
    "    if predicted_label == true_label:\n",
    "        color = 'green'\n",
    "    else:\n",
    "        color = 'red'\n",
    "    plt.xlabel(\"Classe - {} | {:2.0f}% (true class {})\".format(CATEGORIES[predicted_label], 100*np.max(prediction_array), CATEGORIES[true_label]), color=color)\n",
    "\n",
    "def plot_value_array(prediction_array, true_label):\n",
    "    plt.grid(False)\n",
    "    plt.xticks([])\n",
    "    plt.yticks([])\n",
    "    thisplot = plt.bar(range(len(CATEGORIES)), prediction_array, color= \"#777777\")\n",
    "    plt.ylim([0, 1])\n",
    "    predicted_label = np.argmax(prediction_array)\n",
    "\n",
    "    thisplot[predicted_label].set_color('red')\n",
    "    print(CATEGORIES[true_label])\n",
    "    thisplot[true_label].set_color('green')"
   ]
  },
  {
   "cell_type": "code",
   "execution_count": null,
   "metadata": {},
   "outputs": [],
   "source": [
    "for category in CATEGORIES:\n",
    "\n",
    "    true_label_num = CATEGORIES.index (category)\n",
    "    \n",
    "    DIR = TEST2_DIR+'/previsao '+'(' + category + ').'+formato\n",
    "    \n",
    "    xp, Xp = prepare(DIR)\n",
    "\n",
    "    Xp=np.array(Xp/255.0)\n",
    "       \n",
    "    prediction = model.predict( Xp )\n",
    "    \n",
    "    prev = prediction[0]\n",
    "\n",
    "    plt.figure(figsize=(6,3))\n",
    "    plt.subplot(1,2,1)\n",
    "\n",
    "    plot_image(prediction[0], true_label_num, xp)\n",
    "    plt.subplot(1,2,2)\n",
    "    plot_value_array(prediction[0],  true_label_num)\n",
    "    plt.show()\n",
    "    \n",
    "    infos = []\n",
    "    \n",
    "    for i in range( len(prev) ):\n",
    "        \n",
    "        infos.append([str(CATEGORIES[i]), np.round(prev[i]*100, 3)])\n",
    "        \n",
    "        #print( 'Classe - {} | Confiança - {} %'.format(CATEGORIES[i], np.round(prev[i]*100, 2) ) )\n",
    "    \n",
    "    infos = sorted(infos[:], key=itemgetter(1), reverse = True)\n",
    "    \n",
    "    for i in range(len(prev)):\n",
    "        \n",
    "        print('Classe - {:<11} | Confiança - {:<5}'.format(infos[i][0], infos[i][1]))\n",
    "        \n",
    "        #print( infos[i][0], infos[i][1] )\n",
    "    \n",
    "    #print(  np.flip(np.sort(infos, axis=0,), axis=0)   )\n",
    "    \n",
    "    inp = model.inputs \n",
    "    \n",
    "    k=0\n",
    "\n",
    "    for layer in model.layers:\n",
    "        if 'conv' in layer.name: \n",
    "            fig= plt.figure(figsize=(15,15))\n",
    "            out = layer.output\n",
    "            #print(out)\n",
    "            feature_map = Model(inputs= inp, outputs= out)\n",
    "            f = feature_map.predict(Xp)\n",
    "              \n",
    "            feature_map.summary()\n",
    "            \n",
    "            print('Ativação na {}° camada'.format(k+1))\n",
    "\n",
    "            for i in range(f.shape[3]):\n",
    "\n",
    "                #p = f[:,:,:,i]\n",
    "                \n",
    "                p = f[0,:,:,i]\n",
    "                \n",
    "                #print(p.shape)\n",
    "                #print(p.shape[2])\n",
    "                \n",
    "                ax = fig.add_subplot(16,8,i+1)\n",
    "                ax.imshow(p, cmap='gray')\n",
    "\n",
    "            plt.show()\n",
    "        k=k+1\n",
    "\n",
    "    print('\\n\\n')"
   ]
  }
 ],
 "metadata": {
  "kernelspec": {
   "display_name": "Python 3 (ipykernel)",
   "language": "python",
   "name": "python3"
  },
  "language_info": {
   "codemirror_mode": {
    "name": "ipython",
    "version": 3
   },
   "file_extension": ".py",
   "mimetype": "text/x-python",
   "name": "python",
   "nbconvert_exporter": "python",
   "pygments_lexer": "ipython3",
   "version": "3.8.10"
  }
 },
 "nbformat": 4,
 "nbformat_minor": 4
}
