{
 "cells": [
  {
   "cell_type": "code",
   "execution_count": 1,
   "metadata": {},
   "outputs": [],
   "source": [
    "import numpy as np\n",
    "import matplotlib.pyplot as plt\n",
    "import os\n",
    "import cv2\n",
    "from tqdm import tqdm\n",
    "\n",
    "import os\n",
    "import pathlib\n",
    "import random\n",
    "\n",
    "import tensorflow as tf\n",
    "from tensorflow.keras.preprocessing.image import ImageDataGenerator\n",
    "from tensorflow.keras.models import Sequential\n",
    "from tensorflow.keras.layers import Dense, Dropout, Activation, Flatten\n",
    "from tensorflow.keras.layers import Conv2D, MaxPooling2D, BatchNormalization\n",
    "from tensorflow.keras import layers, models, utils"
   ]
  },
  {
   "cell_type": "code",
   "execution_count": 2,
   "metadata": {},
   "outputs": [],
   "source": [
    "IMG_SIZE = 50\n",
    "\n",
    "DATADIR = \"/data/dataset/mnist/trainingSet/trainingSet\"\n",
    "\n",
    "TESTDIR = \"/data/dataset/mnist/trainingSample/trainingSample\"\n",
    "\n",
    "CATEGORIES = [\"0\", \"1\", \"2\", \"3\", \"4\", \"5\", \"6\", \"7\", \"8\", \"9\"]"
   ]
  },
  {
   "cell_type": "code",
   "execution_count": 3,
   "metadata": {},
   "outputs": [
    {
     "name": "stdout",
     "output_type": "stream",
     "text": [
      "Number of training images:  42000\n",
      "Number of test images:  600\n"
     ]
    }
   ],
   "source": [
    "IMG_SIZE = 50\n",
    "\n",
    "data_train = pathlib.Path(DATADIR)\n",
    "data_test = pathlib.Path(TESTDIR)\n",
    "\n",
    "SIZE_OF_DATASET = len(list(data_train.glob('*/*.jpg')))\n",
    "SIZE_OF_TEST = len(list(data_test.glob('*/*.jpg')))\n",
    "\n",
    "print(\"Number of training images: \",SIZE_OF_DATASET)\n",
    "print(\"Number of test images: \",SIZE_OF_TEST)"
   ]
  },
  {
   "cell_type": "code",
   "execution_count": 4,
   "metadata": {},
   "outputs": [],
   "source": [
    "def prep_data(DATA_DIR, CATEGORIES):\n",
    "    data = []\n",
    "    for category in CATEGORIES:\n",
    "\n",
    "        path = os.path.join(DATA_DIR,category)\n",
    "        class_num = CATEGORIES.index(category)\n",
    "\n",
    "        for img in tqdm(os.listdir(path)):\n",
    "\n",
    "            img_array = cv2.imread(os.path.join(path,img) ,cv2.IMREAD_GRAYSCALE)\n",
    "            new_array = cv2.resize(img_array, (IMG_SIZE, IMG_SIZE))\n",
    "            \n",
    "            data.append([new_array, class_num])\n",
    "  \n",
    "        plt.figure(figsize=(1,1))\n",
    "        plt.imshow(new_array, cmap='gray')\n",
    "        plt.show()\n",
    "    return data"
   ]
  },
  {
   "cell_type": "code",
   "execution_count": 5,
   "metadata": {},
   "outputs": [],
   "source": [
    "def prep_2(data):\n",
    "    random.shuffle(data)\n",
    "    X = []\n",
    "    y = []\n",
    "    for features,label in data:\n",
    "        X.append(features)\n",
    "        y.append(label)\n",
    "\n",
    "    res = np.eye(10)[y]\n",
    "        \n",
    "    X = np.array(X).reshape(-1, IMG_SIZE, IMG_SIZE, 1)\n",
    "\n",
    "    return X, res"
   ]
  },
  {
   "cell_type": "code",
   "execution_count": 6,
   "metadata": {},
   "outputs": [
    {
     "name": "stderr",
     "output_type": "stream",
     "text": [
      "100%|██████████| 60/60 [00:01<00:00, 30.11it/s]\n"
     ]
    },
    {
     "data": {
      "image/png": "[encoded data removed]",
      "text/plain": [
       "<Figure size 72x72 with 1 Axes>"
      ]
     },
     "metadata": {
      "needs_background": "light"
     },
     "output_type": "display_data"
    },
    {
     "name": "stderr",
     "output_type": "stream",
     "text": [
      "100%|██████████| 60/60 [00:02<00:00, 29.83it/s]\n"
     ]
    },
    {
     "data": {
      "image/png": "[encoded data removed]",
      "text/plain": [
       "<Figure size 72x72 with 1 Axes>"
      ]
     },
     "metadata": {
      "needs_background": "light"
     },
     "output_type": "display_data"
    },
    {
     "name": "stderr",
     "output_type": "stream",
     "text": [
      "100%|██████████| 60/60 [00:01<00:00, 50.21it/s]\n"
     ]
    },
    {
     "data": {
      "image/png": "[encoded data removed]",
      "text/plain": [
       "<Figure size 72x72 with 1 Axes>"
      ]
     },
     "metadata": {
      "needs_background": "light"
     },
     "output_type": "display_data"
    },
    {
     "name": "stderr",
     "output_type": "stream",
     "text": [
      "100%|██████████| 60/60 [00:01<00:00, 35.77it/s]\n"
     ]
    },
    {
     "data": {
      "image/png": "[encoded data removed]",
      "text/plain": [
       "<Figure size 72x72 with 1 Axes>"
      ]
     },
     "metadata": {
      "needs_background": "light"
     },
     "output_type": "display_data"
    },
    {
     "name": "stderr",
     "output_type": "stream",
     "text": [
      "100%|██████████| 60/60 [00:01<00:00, 31.97it/s]\n"
     ]
    },
    {
     "data": {
      "image/png": "[encoded data removed]",
      "text/plain": [
       "<Figure size 72x72 with 1 Axes>"
      ]
     },
     "metadata": {
      "needs_background": "light"
     },
     "output_type": "display_data"
    },
    {
     "name": "stderr",
     "output_type": "stream",
     "text": [
      "100%|██████████| 60/60 [00:02<00:00, 29.37it/s]\n"
     ]
    },
    {
     "data": {
      "image/png": "[encoded data removed]",
      "text/plain": [
       "<Figure size 72x72 with 1 Axes>"
      ]
     },
     "metadata": {
      "needs_background": "light"
     },
     "output_type": "display_data"
    },
    {
     "name": "stderr",
     "output_type": "stream",
     "text": [
      "100%|██████████| 60/60 [00:01<00:00, 37.53it/s]\n"
     ]
    },
    {
     "data": {
      "image/png": "[encoded data removed]",
      "text/plain": [
       "<Figure size 72x72 with 1 Axes>"
      ]
     },
     "metadata": {
      "needs_background": "light"
     },
     "output_type": "display_data"
    },
    {
     "name": "stderr",
     "output_type": "stream",
     "text": [
      "100%|██████████| 60/60 [00:01<00:00, 34.54it/s]\n"
     ]
    },
    {
     "data": {
      "image/png": "[encoded data removed]",
      "text/plain": [
       "<Figure size 72x72 with 1 Axes>"
      ]
     },
     "metadata": {
      "needs_background": "light"
     },
     "output_type": "display_data"
    },
    {
     "name": "stderr",
     "output_type": "stream",
     "text": [
      "100%|██████████| 60/60 [00:01<00:00, 40.01it/s]\n"
     ]
    },
    {
     "data": {
      "image/png": "[encoded data removed]",
      "text/plain": [
       "<Figure size 72x72 with 1 Axes>"
      ]
     },
     "metadata": {
      "needs_background": "light"
     },
     "output_type": "display_data"
    },
    {
     "name": "stderr",
     "output_type": "stream",
     "text": [
      "100%|██████████| 60/60 [00:01<00:00, 37.72it/s]\n"
     ]
    },
    {
     "data": {
      "image/png": "[encoded data removed]",
      "text/plain": [
       "<Figure size 72x72 with 1 Axes>"
      ]
     },
     "metadata": {
      "needs_background": "light"
     },
     "output_type": "display_data"
    },
    {
     "name": "stderr",
     "output_type": "stream",
     "text": [
      "100%|██████████| 4132/4132 [01:31<00:00, 44.99it/s]\n"
     ]
    },
    {
     "data": {
      "image/png": "[encoded data removed]",
      "text/plain": [
       "<Figure size 72x72 with 1 Axes>"
      ]
     },
     "metadata": {
      "needs_background": "light"
     },
     "output_type": "display_data"
    },
    {
     "name": "stderr",
     "output_type": "stream",
     "text": [
      "100%|██████████| 4684/4684 [01:39<00:00, 47.11it/s]\n"
     ]
    },
    {
     "data": {
      "image/png": "[encoded data removed]",
      "text/plain": [
       "<Figure size 72x72 with 1 Axes>"
      ]
     },
     "metadata": {
      "needs_background": "light"
     },
     "output_type": "display_data"
    },
    {
     "name": "stderr",
     "output_type": "stream",
     "text": [
      "100%|██████████| 4177/4177 [01:20<00:00, 51.72it/s]\n"
     ]
    },
    {
     "data": {
      "image/png": "[encoded data removed]",
      "text/plain": [
       "<Figure size 72x72 with 1 Axes>"
      ]
     },
     "metadata": {
      "needs_background": "light"
     },
     "output_type": "display_data"
    },
    {
     "name": "stderr",
     "output_type": "stream",
     "text": [
      "100%|██████████| 4351/4351 [01:19<00:00, 54.40it/s]\n"
     ]
    },
    {
     "data": {
      "image/png": "[encoded data removed]",
      "text/plain": [
       "<Figure size 72x72 with 1 Axes>"
      ]
     },
     "metadata": {
      "needs_background": "light"
     },
     "output_type": "display_data"
    },
    {
     "name": "stderr",
     "output_type": "stream",
     "text": [
      "100%|██████████| 4072/4072 [01:16<00:00, 53.54it/s]\n"
     ]
    },
    {
     "data": {
      "image/png": "[encoded data removed]",
      "text/plain": [
       "<Figure size 72x72 with 1 Axes>"
      ]
     },
     "metadata": {
      "needs_background": "light"
     },
     "output_type": "display_data"
    },
    {
     "name": "stderr",
     "output_type": "stream",
     "text": [
      "100%|██████████| 3795/3795 [01:04<00:00, 58.42it/s]\n"
     ]
    },
    {
     "data": {
      "image/png": "[encoded data removed]",
      "text/plain": [
       "<Figure size 72x72 with 1 Axes>"
      ]
     },
     "metadata": {
      "needs_background": "light"
     },
     "output_type": "display_data"
    },
    {
     "name": "stderr",
     "output_type": "stream",
     "text": [
      "100%|██████████| 4137/4137 [01:14<00:00, 55.56it/s]\n"
     ]
    },
    {
     "data": {
      "image/png": "[encoded data removed]",
      "text/plain": [
       "<Figure size 72x72 with 1 Axes>"
      ]
     },
     "metadata": {
      "needs_background": "light"
     },
     "output_type": "display_data"
    },
    {
     "name": "stderr",
     "output_type": "stream",
     "text": [
      "100%|██████████| 4401/4401 [01:13<00:00, 59.95it/s]\n"
     ]
    },
    {
     "data": {
      "image/png": "[encoded data removed]",
      "text/plain": [
       "<Figure size 72x72 with 1 Axes>"
      ]
     },
     "metadata": {
      "needs_background": "light"
     },
     "output_type": "display_data"
    },
    {
     "name": "stderr",
     "output_type": "stream",
     "text": [
      "100%|██████████| 4063/4063 [01:02<00:00, 64.98it/s]\n"
     ]
    },
    {
     "data": {
      "image/png": "[encoded data removed]",
      "text/plain": [
       "<Figure size 72x72 with 1 Axes>"
      ]
     },
     "metadata": {
      "needs_background": "light"
     },
     "output_type": "display_data"
    },
    {
     "name": "stderr",
     "output_type": "stream",
     "text": [
      "100%|██████████| 4188/4188 [01:06<00:00, 63.23it/s]\n"
     ]
    },
    {
     "data": {
      "image/png": "[encoded data removed]",
      "text/plain": [
       "<Figure size 72x72 with 1 Axes>"
      ]
     },
     "metadata": {
      "needs_background": "light"
     },
     "output_type": "display_data"
    }
   ],
   "source": [
    "data = prep_data(TESTDIR, CATEGORIES)\n",
    "tX, ty = prep_2(data)\n",
    "\n",
    "data2 = prep_data(DATADIR, CATEGORIES)\n",
    "X, y = prep_2(data2)"
   ]
  },
  {
   "cell_type": "code",
   "execution_count": 7,
   "metadata": {},
   "outputs": [],
   "source": [
    "X=np.array(X      /255.0)\n",
    "y=np.array(y)\n",
    "\n",
    "tX=np.array(tX    /255.0)\n",
    "ty=np.array(ty)"
   ]
  },
  {
   "cell_type": "code",
   "execution_count": 8,
   "metadata": {},
   "outputs": [],
   "source": [
    "model = models.Sequential()\n",
    "model.add(layers.Conv2D(8, (12, 12), activation='relu', input_shape=(X.shape[1:])))\n",
    "model.add(layers.MaxPooling2D((2, 2)))\n",
    "\n",
    "model.add(layers.Conv2D(16, (6, 6), activation='relu'))\n",
    "model.add(layers.MaxPooling2D((2, 2)))\n",
    "\n",
    "model.add(layers.Conv2D(32, (3, 3), activation='relu'))\n",
    "model.add(layers.MaxPooling2D((2, 2)))\n",
    "\n",
    "model.add( layers.Flatten( ) )\n",
    "model.add( layers.Dense(256, activation='relu') )\n",
    "model.add( layers.Dense(128, activation='relu') )\n",
    "model.add( layers.Dense(64, activation='relu') )\n",
    "model.add( layers.Dense(10, activation='softmax') )"
   ]
  },
  {
   "cell_type": "code",
   "execution_count": 9,
   "metadata": {},
   "outputs": [
    {
     "name": "stdout",
     "output_type": "stream",
     "text": [
      "Epoch 1/50\n",
      "21/21 [==============================] - 13s 636ms/step - loss: 1.7233 - accuracy: 0.4715 - val_loss: 0.7856 - val_accuracy: 0.7783\n",
      "Epoch 2/50\n",
      "21/21 [==============================] - 13s 609ms/step - loss: 0.5865 - accuracy: 0.8240 - val_loss: 0.5056 - val_accuracy: 0.8383\n",
      "Epoch 3/50\n",
      "21/21 [==============================] - 13s 607ms/step - loss: 0.3748 - accuracy: 0.8886 - val_loss: 0.3191 - val_accuracy: 0.9033\n",
      "Epoch 4/50\n",
      "21/21 [==============================] - 13s 596ms/step - loss: 0.2734 - accuracy: 0.9182 - val_loss: 0.2458 - val_accuracy: 0.9267\n",
      "Epoch 5/50\n",
      "21/21 [==============================] - 13s 607ms/step - loss: 0.2195 - accuracy: 0.9327 - val_loss: 0.2005 - val_accuracy: 0.9350\n",
      "Epoch 6/50\n",
      "21/21 [==============================] - 13s 600ms/step - loss: 0.1844 - accuracy: 0.9445 - val_loss: 0.1738 - val_accuracy: 0.9417\n",
      "Epoch 7/50\n",
      "21/21 [==============================] - 13s 600ms/step - loss: 0.1568 - accuracy: 0.9522 - val_loss: 0.1429 - val_accuracy: 0.9483\n",
      "Epoch 8/50\n",
      "21/21 [==============================] - 13s 601ms/step - loss: 0.1391 - accuracy: 0.9577 - val_loss: 0.1085 - val_accuracy: 0.9683\n",
      "Epoch 9/50\n",
      "21/21 [==============================] - 13s 606ms/step - loss: 0.1211 - accuracy: 0.9625 - val_loss: 0.1049 - val_accuracy: 0.9633\n",
      "Epoch 10/50\n",
      "21/21 [==============================] - 13s 610ms/step - loss: 0.1122 - accuracy: 0.9658 - val_loss: 0.0941 - val_accuracy: 0.9667\n",
      "Epoch 11/50\n",
      "21/21 [==============================] - 13s 599ms/step - loss: 0.1020 - accuracy: 0.9682 - val_loss: 0.0777 - val_accuracy: 0.9733\n",
      "Epoch 12/50\n",
      "21/21 [==============================] - 13s 607ms/step - loss: 0.0968 - accuracy: 0.9699 - val_loss: 0.0887 - val_accuracy: 0.9767\n",
      "Epoch 13/50\n",
      "21/21 [==============================] - 13s 599ms/step - loss: 0.0912 - accuracy: 0.9719 - val_loss: 0.0583 - val_accuracy: 0.9850\n",
      "Epoch 14/50\n",
      "21/21 [==============================] - 13s 601ms/step - loss: 0.0845 - accuracy: 0.9741 - val_loss: 0.0695 - val_accuracy: 0.9817\n",
      "Epoch 15/50\n",
      "21/21 [==============================] - 13s 598ms/step - loss: 0.0794 - accuracy: 0.9760 - val_loss: 0.0591 - val_accuracy: 0.9883\n",
      "Epoch 16/50\n",
      "21/21 [==============================] - 13s 597ms/step - loss: 0.0786 - accuracy: 0.9759 - val_loss: 0.0549 - val_accuracy: 0.9817\n",
      "Epoch 17/50\n",
      "21/21 [==============================] - 13s 603ms/step - loss: 0.0708 - accuracy: 0.9780 - val_loss: 0.0460 - val_accuracy: 0.9900\n",
      "Epoch 18/50\n",
      "21/21 [==============================] - 13s 613ms/step - loss: 0.0679 - accuracy: 0.9788 - val_loss: 0.0435 - val_accuracy: 0.9850\n",
      "Epoch 19/50\n",
      "21/21 [==============================] - 13s 607ms/step - loss: 0.0620 - accuracy: 0.9806 - val_loss: 0.0432 - val_accuracy: 0.9917\n",
      "Epoch 20/50\n",
      "21/21 [==============================] - 13s 607ms/step - loss: 0.0611 - accuracy: 0.9809 - val_loss: 0.0450 - val_accuracy: 0.9900\n",
      "Epoch 21/50\n",
      "21/21 [==============================] - 13s 609ms/step - loss: 0.0594 - accuracy: 0.9816 - val_loss: 0.0405 - val_accuracy: 0.9917\n",
      "Epoch 22/50\n",
      "21/21 [==============================] - 13s 600ms/step - loss: 0.0533 - accuracy: 0.9832 - val_loss: 0.0325 - val_accuracy: 0.9933\n",
      "Epoch 23/50\n",
      "21/21 [==============================] - 13s 607ms/step - loss: 0.0510 - accuracy: 0.9846 - val_loss: 0.0434 - val_accuracy: 0.9883\n",
      "Epoch 24/50\n",
      "21/21 [==============================] - 13s 600ms/step - loss: 0.0484 - accuracy: 0.9850 - val_loss: 0.0335 - val_accuracy: 0.9900\n",
      "Epoch 25/50\n",
      "21/21 [==============================] - 13s 599ms/step - loss: 0.0502 - accuracy: 0.9843 - val_loss: 0.0368 - val_accuracy: 0.9900\n",
      "Epoch 26/50\n",
      "21/21 [==============================] - 13s 602ms/step - loss: 0.0462 - accuracy: 0.9861 - val_loss: 0.0331 - val_accuracy: 0.9933\n",
      "Epoch 27/50\n",
      "21/21 [==============================] - 13s 602ms/step - loss: 0.0437 - accuracy: 0.9864 - val_loss: 0.0324 - val_accuracy: 0.9933\n",
      "Epoch 28/50\n",
      "21/21 [==============================] - 13s 601ms/step - loss: 0.0417 - accuracy: 0.9869 - val_loss: 0.0305 - val_accuracy: 0.9917\n",
      "Epoch 29/50\n",
      "21/21 [==============================] - 13s 603ms/step - loss: 0.0395 - accuracy: 0.9878 - val_loss: 0.0257 - val_accuracy: 0.9933\n",
      "Epoch 30/50\n",
      "21/21 [==============================] - 13s 601ms/step - loss: 0.0394 - accuracy: 0.9873 - val_loss: 0.0252 - val_accuracy: 0.9933\n",
      "Epoch 31/50\n",
      "21/21 [==============================] - 13s 600ms/step - loss: 0.0351 - accuracy: 0.9893 - val_loss: 0.0214 - val_accuracy: 0.9933\n",
      "Epoch 32/50\n",
      "21/21 [==============================] - 13s 610ms/step - loss: 0.0335 - accuracy: 0.9898 - val_loss: 0.0210 - val_accuracy: 0.9933\n",
      "Epoch 33/50\n",
      "21/21 [==============================] - 13s 599ms/step - loss: 0.0325 - accuracy: 0.9900 - val_loss: 0.0298 - val_accuracy: 0.9917\n",
      "Epoch 34/50\n",
      "21/21 [==============================] - 13s 602ms/step - loss: 0.0362 - accuracy: 0.9887 - val_loss: 0.0235 - val_accuracy: 0.9950\n",
      "Epoch 35/50\n",
      "21/21 [==============================] - 13s 601ms/step - loss: 0.0368 - accuracy: 0.9885 - val_loss: 0.0189 - val_accuracy: 0.9950\n",
      "Epoch 36/50\n",
      "21/21 [==============================] - 13s 599ms/step - loss: 0.0331 - accuracy: 0.9894 - val_loss: 0.0167 - val_accuracy: 0.9933\n",
      "Epoch 37/50\n",
      "21/21 [==============================] - 13s 605ms/step - loss: 0.0302 - accuracy: 0.9903 - val_loss: 0.0176 - val_accuracy: 0.9967\n",
      "Epoch 38/50\n",
      "21/21 [==============================] - 13s 602ms/step - loss: 0.0290 - accuracy: 0.9908 - val_loss: 0.0167 - val_accuracy: 0.9983\n",
      "Epoch 39/50\n",
      "21/21 [==============================] - 13s 597ms/step - loss: 0.0302 - accuracy: 0.9907 - val_loss: 0.0136 - val_accuracy: 0.9983\n",
      "Epoch 40/50\n",
      "21/21 [==============================] - 13s 597ms/step - loss: 0.0264 - accuracy: 0.9919 - val_loss: 0.0269 - val_accuracy: 0.9950\n",
      "Epoch 41/50\n",
      "21/21 [==============================] - 13s 599ms/step - loss: 0.0281 - accuracy: 0.9913 - val_loss: 0.0188 - val_accuracy: 0.9950\n",
      "Epoch 42/50\n",
      "21/21 [==============================] - 13s 599ms/step - loss: 0.0245 - accuracy: 0.9921 - val_loss: 0.0125 - val_accuracy: 0.9967\n",
      "Epoch 43/50\n",
      "21/21 [==============================] - 13s 602ms/step - loss: 0.0223 - accuracy: 0.9930 - val_loss: 0.0132 - val_accuracy: 0.9950\n",
      "Epoch 44/50\n",
      "21/21 [==============================] - 13s 600ms/step - loss: 0.0240 - accuracy: 0.9922 - val_loss: 0.0137 - val_accuracy: 0.9967\n",
      "Epoch 45/50\n",
      "21/21 [==============================] - 13s 604ms/step - loss: 0.0215 - accuracy: 0.9935 - val_loss: 0.0125 - val_accuracy: 0.9967\n",
      "Epoch 46/50\n",
      "21/21 [==============================] - 13s 601ms/step - loss: 0.0207 - accuracy: 0.9933 - val_loss: 0.0145 - val_accuracy: 0.9950\n",
      "Epoch 47/50\n",
      "21/21 [==============================] - 13s 598ms/step - loss: 0.0209 - accuracy: 0.9935 - val_loss: 0.0259 - val_accuracy: 0.9900\n",
      "Epoch 48/50\n",
      "21/21 [==============================] - 13s 602ms/step - loss: 0.0216 - accuracy: 0.9933 - val_loss: 0.0121 - val_accuracy: 0.9950\n",
      "Epoch 49/50\n",
      "21/21 [==============================] - 13s 597ms/step - loss: 0.0176 - accuracy: 0.9947 - val_loss: 0.0182 - val_accuracy: 0.9950\n",
      "Epoch 50/50\n",
      "21/21 [==============================] - 13s 599ms/step - loss: 0.0168 - accuracy: 0.9948 - val_loss: 0.0084 - val_accuracy: 0.9967\n"
     ]
    }
   ],
   "source": [
    "#opt = tf.keras.optimizers.SGD(\n",
    "#    learning_rate=0.01, momentum=0.1, nesterov=False, name=\"SGD\")\n",
    "\n",
    "model.compile(loss='categorical_crossentropy', optimizer='adam',  metrics=['accuracy'])\n",
    "\n",
    "BATCH_SIZE = 2000\n",
    "EPOCHS = 50\n",
    "\n",
    "history = model.fit(X, y, batch_size=BATCH_SIZE, epochs=EPOCHS, validation_data=(tX, ty))"
   ]
  },
  {
   "cell_type": "code",
   "execution_count": 10,
   "metadata": {},
   "outputs": [
    {
     "data": {
      "text/plain": [
       "<matplotlib.legend.Legend at 0x7f83cc5a0198>"
      ]
     },
     "execution_count": 10,
     "metadata": {},
     "output_type": "execute_result"
    },
    {
     "data": {
      "image/png": "[encoded data removed]",
      "text/plain": [
       "<Figure size 432x288 with 1 Axes>"
      ]
     },
     "metadata": {
      "needs_background": "light"
     },
     "output_type": "display_data"
    }
   ],
   "source": [
    "plt.plot(history.history['accuracy'], label='accuracy')\n",
    "plt.plot(history.history['val_accuracy'], label = 'val_accuracy')\n",
    "plt.xlabel('Epoch')\n",
    "plt.ylabel('Accuracy')\n",
    "plt.ylim([0.5, 1])\n",
    "plt.legend(loc='lower right')"
   ]
  },
  {
   "cell_type": "code",
   "execution_count": 11,
   "metadata": {},
   "outputs": [],
   "source": [
    "def prepare(filepath):\n",
    "    img_array = cv2.imread(filepath, cv2.IMREAD_GRAYSCALE)\n",
    "    new_array = cv2.resize(img_array, (IMG_SIZE, IMG_SIZE))\n",
    "    return new_array, new_array.reshape(-1, IMG_SIZE, IMG_SIZE, 1)\n",
    "\n",
    "def plot_image(prediction_array, true_label, img):\n",
    "    plt.grid(False)\n",
    "    plt.xticks([])\n",
    "    plt.yticks([])\n",
    "    plt.imshow(img, cmap='gray')\n",
    "    predicted_label = np.argmax(prediction_array)        \n",
    "    if predicted_label == true_label:\n",
    "        color = 'green'\n",
    "    else:\n",
    "        color = 'red'\n",
    "    plt.xlabel(\"Classe - {} | {:2.0f}% ({})\".format(predicted_label,100*np.max(prediction_array),true_label), color=color)\n",
    "\n",
    "def plot_value_array(prediction_array, true_label):\n",
    "    plt.grid(False)\n",
    "    plt.xticks([])\n",
    "    plt.yticks([])\n",
    "    thisplot = plt.bar(range(10), prediction_array, color= \"#777777\")\n",
    "    plt.ylim([0, 1])\n",
    "    predicted_label = np.argmax(prediction_array)\n",
    "    thisplot[predicted_label].set_color('red')\n",
    "    thisplot[true_label].set_color('green')"
   ]
  },
  {
   "cell_type": "code",
   "execution_count": 24,
   "metadata": {},
   "outputs": [
    {
     "data": {
      "image/png": "[encoded data removed]",
      "text/plain": [
       "<Figure size 432x216 with 2 Axes>"
      ]
     },
     "metadata": {},
     "output_type": "display_data"
    },
    {
     "name": "stdout",
     "output_type": "stream",
     "text": [
      "Classe - 0 | Confiança - 0.1 %\n",
      "Classe - 1 | Confiança - 0.12 %\n",
      "Classe - 2 | Confiança - 2.21 %\n",
      "Classe - 3 | Confiança - 55.48 %\n",
      "Classe - 4 | Confiança - 0.04 %\n",
      "Classe - 5 | Confiança - 18.16 %\n",
      "Classe - 6 | Confiança - 0.01 %\n",
      "Classe - 7 | Confiança - 0.07 %\n",
      "Classe - 8 | Confiança - 20.4 %\n",
      "Classe - 9 | Confiança - 3.4 %\n"
     ]
    }
   ],
   "source": [
    "DIR = 'previsao3.jpg'\n",
    "IMG_SIZE = 50\n",
    "true_label = 3\n",
    "\n",
    "xp, Xp = prepare(DIR)\n",
    "Xp=np.array(Xp/255.0)\n",
    "prediction = model.predict( Xp )\n",
    "prev = prediction[0]\n",
    "\n",
    "plt.figure(figsize=(6,3))\n",
    "plt.subplot(1,2,1)\n",
    "\n",
    "plot_image(prediction[0], true_label, xp)\n",
    "plt.subplot(1,2,2)\n",
    "plot_value_array(prediction[0],  true_label)\n",
    "plt.show()\n",
    "\n",
    "for i in range( len(prev) ):\n",
    "    print( 'Classe - {} | Confiança - {} %'.format(i,  np.round(prev[i]*100, 2) ) )"
   ]
  },
  {
   "cell_type": "code",
   "execution_count": null,
   "metadata": {},
   "outputs": [
    {
     "name": "stdout",
     "output_type": "stream",
     "text": [
      "Filtros da 1° camada\n"
     ]
    },
    {
     "data": {
      "image/png": "[encoded data removed]",
      "text/plain": [
       "<Figure size 720x720 with 8 Axes>"
      ]
     },
     "metadata": {
      "needs_background": "light"
     },
     "output_type": "display_data"
    },
    {
     "name": "stdout",
     "output_type": "stream",
     "text": [
      "Filtros da 3° camada\n"
     ]
    },
    {
     "data": {
      "image/png": "[encoded data removed]",
      "text/plain": [
       "<Figure size 720x720 with 16 Axes>"
      ]
     },
     "metadata": {
      "needs_background": "light"
     },
     "output_type": "display_data"
    },
    {
     "name": "stdout",
     "output_type": "stream",
     "text": [
      "Filtros da 5° camada\n"
     ]
    }
   ],
   "source": [
    "k=0\n",
    "for layer in model.layers:\n",
    "\n",
    "    if 'conv' in layer.name: \n",
    "\n",
    "        fig= plt.figure(figsize=(10,10))\n",
    "\n",
    "        filter_, bias_= layer.get_weights()\n",
    "\n",
    "        f_min, f_max = filter_.min(), filter_.max()\n",
    "        filter_ = (filter_ - f_min) / (f_max - f_min)\n",
    "\n",
    "        print('Filtros da {}° camada'.format(k+1))\n",
    "        \n",
    "        for i in range(filter_.shape[3]):\n",
    "\n",
    "            p = filter_[:,:,0,i]\n",
    "             \n",
    "            \n",
    "            ax = fig.add_subplot(8,4,i+1)\n",
    "            ax.imshow(p, cmap='gray')\n",
    "            \n",
    "\n",
    "            #plt.subplot(5,5,i+1)\n",
    "            #plt.xticks([])\n",
    "            #plt.yticks([])\n",
    "            #plt.grid(False)    \n",
    "            #plt.imshow(p, cmap=plt.cm.binary)\n",
    "        plt.show()\n",
    "    k=k+1"
   ]
  },
  {
   "cell_type": "code",
   "execution_count": null,
   "metadata": {},
   "outputs": [],
   "source": [
    "from tensorflow.keras.models import Model\n",
    "\n",
    "inp= model.inputs \n",
    "\n",
    "k=0\n",
    "for layer in model.layers:\n",
    "    if 'conv' in layer.name: \n",
    "        fig= plt.figure(figsize=(10,10))\n",
    "        out = layer.output\n",
    "        feature_map= Model(inputs= inp, outputs= out) \n",
    "        f = feature_map.predict(Xp)\n",
    "        print('Ativação na {}° camada'.format(k+1))\n",
    "        \n",
    "        for i in range(f.shape[3]):\n",
    "\n",
    "            p = f[0,:,:,i]\n",
    "                         \n",
    "            ax = fig.add_subplot(8,4,i+1)\n",
    "            ax.imshow(p, cmap='gray')\n",
    "            \n",
    "            #plt.subplot(5,5,i+1)\n",
    "            #plt.xticks([])\n",
    "            #plt.yticks([])\n",
    "            #plt.grid(False)   \n",
    "            #plt.imshow(p, cmap=plt.cm.binary)\n",
    "\n",
    "        plt.show()\n",
    "    k=k+1"
   ]
  },
  {
   "cell_type": "code",
   "execution_count": null,
   "metadata": {},
   "outputs": [],
   "source": [
    "for layer in model.layers:\n",
    "    print(layer.name)\n",
    "\n",
    "'''i=1\n",
    "for layer in model.layers:\n",
    "    if 'conv' in layer.name: \n",
    "        filters, bias= layer.get_weights()\n",
    "        print('Filters Shape: '+ str(filters.shape, )+\" \" + 'Bias Shape: '+str(bias.shape)+ \"<---- layer: \"+str(i))\n",
    "        print(\"-----------\")\n",
    "        i=i+1'''\n",
    "\n",
    "'''from tensorflow.keras.models import Model\n",
    "\n",
    "inp= model.inputs \n",
    "print(inp)\n",
    "\n",
    "out1= model.layers[0]. output  \n",
    "print(out1)\n",
    "\n",
    "feature_map_1= Model(inputs= inp, outputs= out1)  \n",
    "feature_map_1.summary()\n",
    "\n",
    "\n",
    "f1=feature_map_1.predict(Xp)        # predicting out the Image \n",
    "print(f1.shape)# Let's see the shape'''"
   ]
  },
  {
   "cell_type": "code",
   "execution_count": null,
   "metadata": {},
   "outputs": [],
   "source": [
    "#model.save('melhor_modelo_resultado_perfeito.h5')"
   ]
  },
  {
   "cell_type": "code",
   "execution_count": null,
   "metadata": {},
   "outputs": [],
   "source": []
  }
 ],
 "metadata": {
  "kernelspec": {
   "display_name": "Python 3",
   "language": "python",
   "name": "python3"
  },
  "language_info": {
   "codemirror_mode": {
    "name": "ipython",
    "version": 3
   },
   "file_extension": ".py",
   "mimetype": "text/x-python",
   "name": "python",
   "nbconvert_exporter": "python",
   "pygments_lexer": "ipython3",
   "version": "3.6.9"
  }
 },
 "nbformat": 4,
 "nbformat_minor": 4
}
