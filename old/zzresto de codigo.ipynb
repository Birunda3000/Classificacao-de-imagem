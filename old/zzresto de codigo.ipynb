{
 "cells": [
  {
   "cell_type": "code",
   "execution_count": null,
   "metadata": {},
   "outputs": [],
   "source": [
    "imagem = []\n",
    "R = []\n",
    "G = []\n",
    "B = []\n",
    "auxR = []\n",
    "auxG = []\n",
    "auxB = []\n",
    "for i in range(len( p )):\n",
    "    for j in range(len( p[i] )):\n",
    "        auxR.append(p[i][j][0])\n",
    "        auxG.append(p[i][j][1])\n",
    "        auxB.append(p[i][j][2])\n",
    "    R.append(auxR)\n",
    "    G.append(auxG)\n",
    "    B.append(auxB)\n",
    "    auxR = []\n",
    "    auxG = []\n",
    "    auxB = []\n",
    "imagem.append(R)\n",
    "imagem.append(G)\n",
    "imagem.append(B)"
   ]
  },
  {
   "cell_type": "code",
   "execution_count": null,
   "metadata": {},
   "outputs": [],
   "source": [
    "'''k=0\n",
    "for layer in model.layers:\n",
    "\n",
    "    if 'conv' in layer.name: \n",
    "\n",
    "        fig= plt.figure(figsize=(10,10))\n",
    "\n",
    "        filter_, bias_= layer.get_weights()\n",
    "\n",
    "        f_min, f_max = filter_.min(), filter_.max()\n",
    "        filter_ = (filter_ - f_min) / (f_max - f_min)\n",
    "\n",
    "        print('Filtros da {}° camada'.format(k+1))\n",
    "        \n",
    "        for i in range(filter_.shape[3]):\n",
    "\n",
    "            p = filter_[:,:,0,i]\n",
    "\n",
    "            plt.subplot(8,8,i+1)\n",
    "            plt.xticks([])\n",
    "            plt.yticks([])\n",
    "            plt.grid(False)    \n",
    "            plt.imshow(p, cmap=plt.cm.binary)\n",
    "        plt.show()\n",
    "    k=k+1'''"
   ]
  },
  {
   "cell_type": "code",
   "execution_count": null,
   "metadata": {},
   "outputs": [],
   "source": [
    "Filtros da 1° camada\n",
    "(2, 2, 3, 4)\n",
    "\n",
    "Filtros da 4° camada\n",
    "(4, 4, 4, 5)"
   ]
  }
 ],
 "metadata": {
  "kernelspec": {
   "display_name": "Python 3",
   "language": "python",
   "name": "python3"
  },
  "language_info": {
   "codemirror_mode": {
    "name": "ipython",
    "version": 3
   },
   "file_extension": ".py",
   "mimetype": "text/x-python",
   "name": "python",
   "nbconvert_exporter": "python",
   "pygments_lexer": "ipython3",
   "version": "3.6.9"
  }
 },
 "nbformat": 4,
 "nbformat_minor": 4
}
