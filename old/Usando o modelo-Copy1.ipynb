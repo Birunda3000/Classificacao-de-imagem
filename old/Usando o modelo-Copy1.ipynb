{
 "cells": [
  {
   "cell_type": "code",
   "execution_count": 1,
   "metadata": {},
   "outputs": [],
   "source": [
    "import tensorflow as tf\n",
    "import utils_img_rec as ut\n",
    "import pickle\n",
    "import cv2\n",
    "import numpy as np\n",
    "import matplotlib.pyplot as plt\n",
    "from tensorflow.keras import models"
   ]
  },
  {
   "cell_type": "markdown",
   "metadata": {},
   "source": [
    "### Definindo variaveis"
   ]
  },
  {
   "cell_type": "code",
   "execution_count": 2,
   "metadata": {},
   "outputs": [],
   "source": [
    "DATA_DIR  = '/home/erick/bases/pickle/imagens/mnist/mnist-train-pickle.pickle'\n",
    "TEST2_DIR = '/home/erick/bases/dados/imagens/teste2/amostra-numerica'\n",
    "formato = 'jpg'\n",
    "IMG_SIZE = 28\n",
    "\n",
    "pickle_in = open(DATA_DIR,\"rb\")\n",
    "data_train = pickle.load(pickle_in)"
   ]
  },
  {
   "cell_type": "markdown",
   "metadata": {},
   "source": [
    "### Definindo categorias"
   ]
  },
  {
   "cell_type": "code",
   "execution_count": 3,
   "metadata": {},
   "outputs": [
    {
     "name": "stdout",
     "output_type": "stream",
     "text": [
      "['0', '1', '2', '3', '4', '5', '6', '7', '8', '9']\n"
     ]
    }
   ],
   "source": [
    "#CATEGORIES = []\n",
    "CATEGORIES = ut.get_classes(data_train)\n",
    "CATEGORIES.sort()\n",
    "try:\n",
    "    CATEGORIES.remove('.ipynb_checkpoints')\n",
    "except:\n",
    "    pass\n",
    "print(CATEGORIES)"
   ]
  },
  {
   "cell_type": "markdown",
   "metadata": {},
   "source": [
    "### Carregando o modelo"
   ]
  },
  {
   "cell_type": "code",
   "execution_count": 4,
   "metadata": {},
   "outputs": [
    {
     "name": "stdout",
     "output_type": "stream",
     "text": [
      "Model: \"sequential\"\n",
      "_________________________________________________________________\n",
      "Layer (type)                 Output Shape              Param #   \n",
      "=================================================================\n",
      "conv2d (Conv2D)              (None, 21, 21, 128)       8320      \n",
      "_________________________________________________________________\n",
      "max_pooling2d (MaxPooling2D) (None, 10, 10, 128)       0         \n",
      "_________________________________________________________________\n",
      "dropout (Dropout)            (None, 10, 10, 128)       0         \n",
      "_________________________________________________________________\n",
      "conv2d_1 (Conv2D)            (None, 7, 7, 64)          131136    \n",
      "_________________________________________________________________\n",
      "max_pooling2d_1 (MaxPooling2 (None, 3, 3, 64)          0         \n",
      "_________________________________________________________________\n",
      "dropout_1 (Dropout)          (None, 3, 3, 64)          0         \n",
      "_________________________________________________________________\n",
      "conv2d_2 (Conv2D)            (None, 2, 2, 32)          8224      \n",
      "_________________________________________________________________\n",
      "max_pooling2d_2 (MaxPooling2 (None, 1, 1, 32)          0         \n",
      "_________________________________________________________________\n",
      "dropout_2 (Dropout)          (None, 1, 1, 32)          0         \n",
      "_________________________________________________________________\n",
      "flatten (Flatten)            (None, 32)                0         \n",
      "_________________________________________________________________\n",
      "dense (Dense)                (None, 60000)             1980000   \n",
      "_________________________________________________________________\n",
      "dropout_3 (Dropout)          (None, 60000)             0         \n",
      "_________________________________________________________________\n",
      "dense_1 (Dense)              (None, 1100)              66001100  \n",
      "_________________________________________________________________\n",
      "dropout_4 (Dropout)          (None, 1100)              0         \n",
      "_________________________________________________________________\n",
      "dense_2 (Dense)              (None, 128)               140928    \n",
      "_________________________________________________________________\n",
      "dense_3 (Dense)              (None, 10)                1290      \n",
      "=================================================================\n",
      "Total params: 68,270,998\n",
      "Trainable params: 68,270,998\n",
      "Non-trainable params: 0\n",
      "_________________________________________________________________\n"
     ]
    }
   ],
   "source": [
    "model = tf.kermodel = tf.keras.models.load_model('modelos_salvos/modelo_mnist - acc = 0.9919.h5')\n",
    "model.summary()"
   ]
  },
  {
   "cell_type": "code",
   "execution_count": 5,
   "metadata": {},
   "outputs": [],
   "source": [
    "def prepare(filepath):\n",
    "    img_array = cv2.imread(filepath, cv2.IMREAD_GRAYSCALE)\n",
    "    new_array = cv2.resize(img_array, (IMG_SIZE, IMG_SIZE))\n",
    "    return new_array, new_array.reshape(-1, IMG_SIZE, IMG_SIZE, 1)\n",
    "\n",
    "def plot_image(prediction_array, true_label, img):\n",
    "    plt.grid(False)\n",
    "    plt.xticks([])\n",
    "    plt.yticks([])\n",
    "    plt.imshow(img, cmap='gray')\n",
    "    predicted_label = np.argmax(prediction_array)        \n",
    "    if predicted_label == true_label:\n",
    "        color = 'green'\n",
    "    else:\n",
    "        color = 'red'\n",
    "    plt.xlabel(\"Classe - {} | {:2.0f}% (true class {})\".format(CATEGORIES[predicted_label], 100*np.max(prediction_array), CATEGORIES[true_label]), color=color)\n",
    "\n",
    "def plot_value_array(prediction_array, true_label):\n",
    "    plt.grid(False)\n",
    "    plt.xticks([])\n",
    "    plt.yticks([])\n",
    "    thisplot = plt.bar(range(len(CATEGORIES)), prediction_array, color= \"#777777\")\n",
    "    plt.ylim([0, 1])\n",
    "    predicted_label = np.argmax(prediction_array)\n",
    "\n",
    "    thisplot[predicted_label].set_color('red')\n",
    "    print(CATEGORIES[true_label])\n",
    "    thisplot[true_label].set_color('green')"
   ]
  },
  {
   "cell_type": "code",
   "execution_count": 6,
   "metadata": {},
   "outputs": [
    {
     "name": "stdout",
     "output_type": "stream",
     "text": [
      "0\n"
     ]
    },
    {
     "data": {
      "image/png": "[encoded data removed]",
      "text/plain": [
       "<Figure size 432x216 with 2 Axes>"
      ]
     },
     "metadata": {},
     "output_type": "display_data"
    },
    {
     "name": "stdout",
     "output_type": "stream",
     "text": [
      "Classe - 0 | Confiança - 99.89 %\n",
      "Classe - 1 | Confiança - 0.0 %\n",
      "Classe - 2 | Confiança - 0.0 %\n",
      "Classe - 3 | Confiança - 0.0 %\n",
      "Classe - 4 | Confiança - 0.0 %\n",
      "Classe - 5 | Confiança - 0.0 %\n",
      "Classe - 6 | Confiança - 0.0 %\n",
      "Classe - 7 | Confiança - 0.0 %\n",
      "Classe - 8 | Confiança - 0.0 %\n",
      "Classe - 9 | Confiança - 0.1 %\n",
      "(1, 21, 21, 128)\n",
      "0\n",
      "conv2d\n",
      "(21, 21)\n"
     ]
    },
    {
     "data": {
      "text/plain": [
       "<Figure size 1440x1440 with 0 Axes>"
      ]
     },
     "metadata": {},
     "output_type": "display_data"
    },
    {
     "name": "stdout",
     "output_type": "stream",
     "text": [
      "---------------------------------\n",
      "(1, 21, 21, 128)\n",
      "0\n",
      "conv2d\n",
      "max_pooling2d\n",
      "dropout\n",
      "conv2d_1\n",
      "(21, 21)\n"
     ]
    },
    {
     "data": {
      "text/plain": [
       "<Figure size 1440x1440 with 0 Axes>"
      ]
     },
     "metadata": {},
     "output_type": "display_data"
    },
    {
     "name": "stdout",
     "output_type": "stream",
     "text": [
      "---------------------------------\n",
      "(1, 21, 21, 128)\n",
      "0\n",
      "conv2d\n",
      "max_pooling2d\n",
      "dropout\n",
      "conv2d_1\n",
      "max_pooling2d_1\n",
      "dropout_1\n",
      "conv2d_2\n",
      "(21, 21)\n"
     ]
    },
    {
     "data": {
      "text/plain": [
       "<Figure size 1440x1440 with 0 Axes>"
      ]
     },
     "metadata": {},
     "output_type": "display_data"
    },
    {
     "name": "stdout",
     "output_type": "stream",
     "text": [
      "---------------------------------\n",
      "---------------------------------------------------------------------------------------------------------------------------\n",
      "1\n"
     ]
    },
    {
     "data": {
      "image/png": "[encoded data removed]",
      "text/plain": [
       "<Figure size 432x216 with 2 Axes>"
      ]
     },
     "metadata": {},
     "output_type": "display_data"
    },
    {
     "name": "stdout",
     "output_type": "stream",
     "text": [
      "Classe - 0 | Confiança - 0.0 %\n",
      "Classe - 1 | Confiança - 99.8 %\n",
      "Classe - 2 | Confiança - 0.09 %\n",
      "Classe - 3 | Confiança - 0.01 %\n",
      "Classe - 4 | Confiança - 0.03 %\n",
      "Classe - 5 | Confiança - 0.04 %\n",
      "Classe - 6 | Confiança - 0.0 %\n",
      "Classe - 7 | Confiança - 0.02 %\n",
      "Classe - 8 | Confiança - 0.01 %\n",
      "Classe - 9 | Confiança - 0.0 %\n",
      "(1, 21, 21, 128)\n",
      "1\n",
      "conv2d\n",
      "(21, 21)\n"
     ]
    },
    {
     "data": {
      "text/plain": [
       "<Figure size 1440x1440 with 0 Axes>"
      ]
     },
     "metadata": {},
     "output_type": "display_data"
    },
    {
     "name": "stdout",
     "output_type": "stream",
     "text": [
      "---------------------------------\n",
      "(1, 21, 21, 128)\n",
      "1\n",
      "conv2d\n",
      "max_pooling2d\n",
      "dropout\n",
      "conv2d_1\n",
      "(21, 21)\n"
     ]
    },
    {
     "data": {
      "text/plain": [
       "<Figure size 1440x1440 with 0 Axes>"
      ]
     },
     "metadata": {},
     "output_type": "display_data"
    },
    {
     "name": "stdout",
     "output_type": "stream",
     "text": [
      "---------------------------------\n",
      "(1, 21, 21, 128)\n",
      "1\n",
      "conv2d\n",
      "max_pooling2d\n",
      "dropout\n",
      "conv2d_1\n",
      "max_pooling2d_1\n",
      "dropout_1\n",
      "conv2d_2\n",
      "(21, 21)\n"
     ]
    },
    {
     "data": {
      "text/plain": [
       "<Figure size 1440x1440 with 0 Axes>"
      ]
     },
     "metadata": {},
     "output_type": "display_data"
    },
    {
     "name": "stdout",
     "output_type": "stream",
     "text": [
      "---------------------------------\n",
      "---------------------------------------------------------------------------------------------------------------------------\n",
      "2\n"
     ]
    },
    {
     "data": {
      "image/png": "[encoded data removed]",
      "text/plain": [
       "<Figure size 432x216 with 2 Axes>"
      ]
     },
     "metadata": {},
     "output_type": "display_data"
    },
    {
     "name": "stdout",
     "output_type": "stream",
     "text": [
      "Classe - 0 | Confiança - 0.0 %\n",
      "Classe - 1 | Confiança - 0.0 %\n",
      "Classe - 2 | Confiança - 100.0 %\n",
      "Classe - 3 | Confiança - 0.0 %\n",
      "Classe - 4 | Confiança - 0.0 %\n",
      "Classe - 5 | Confiança - 0.0 %\n",
      "Classe - 6 | Confiança - 0.0 %\n",
      "Classe - 7 | Confiança - 0.0 %\n",
      "Classe - 8 | Confiança - 0.0 %\n",
      "Classe - 9 | Confiança - 0.0 %\n",
      "(1, 21, 21, 128)\n",
      "2\n",
      "conv2d\n",
      "(21, 21)\n"
     ]
    },
    {
     "data": {
      "text/plain": [
       "<Figure size 1440x1440 with 0 Axes>"
      ]
     },
     "metadata": {},
     "output_type": "display_data"
    },
    {
     "name": "stdout",
     "output_type": "stream",
     "text": [
      "---------------------------------\n",
      "(1, 21, 21, 128)\n",
      "2\n",
      "conv2d\n",
      "max_pooling2d\n",
      "dropout\n",
      "conv2d_1\n",
      "(21, 21)\n"
     ]
    },
    {
     "data": {
      "text/plain": [
       "<Figure size 1440x1440 with 0 Axes>"
      ]
     },
     "metadata": {},
     "output_type": "display_data"
    },
    {
     "name": "stdout",
     "output_type": "stream",
     "text": [
      "---------------------------------\n",
      "(1, 21, 21, 128)\n",
      "2\n",
      "conv2d\n",
      "max_pooling2d\n",
      "dropout\n",
      "conv2d_1\n",
      "max_pooling2d_1\n",
      "dropout_1\n",
      "conv2d_2\n",
      "(21, 21)\n"
     ]
    },
    {
     "data": {
      "text/plain": [
       "<Figure size 1440x1440 with 0 Axes>"
      ]
     },
     "metadata": {},
     "output_type": "display_data"
    },
    {
     "name": "stdout",
     "output_type": "stream",
     "text": [
      "---------------------------------\n",
      "---------------------------------------------------------------------------------------------------------------------------\n",
      "3\n"
     ]
    },
    {
     "data": {
      "image/png": "[encoded data removed]",
      "text/plain": [
       "<Figure size 432x216 with 2 Axes>"
      ]
     },
     "metadata": {},
     "output_type": "display_data"
    },
    {
     "name": "stdout",
     "output_type": "stream",
     "text": [
      "Classe - 0 | Confiança - 1.28 %\n",
      "Classe - 1 | Confiança - 2.22 %\n",
      "Classe - 2 | Confiança - 12.14 %\n",
      "Classe - 3 | Confiança - 47.5 %\n",
      "Classe - 4 | Confiança - 0.0 %\n",
      "Classe - 5 | Confiança - 22.8 %\n",
      "Classe - 6 | Confiança - 0.0 %\n",
      "Classe - 7 | Confiança - 3.73 %\n",
      "Classe - 8 | Confiança - 3.3 %\n",
      "Classe - 9 | Confiança - 7.01 %\n",
      "(1, 21, 21, 128)\n",
      "3\n",
      "conv2d\n",
      "(21, 21)\n"
     ]
    },
    {
     "data": {
      "text/plain": [
       "<Figure size 1440x1440 with 0 Axes>"
      ]
     },
     "metadata": {},
     "output_type": "display_data"
    },
    {
     "name": "stdout",
     "output_type": "stream",
     "text": [
      "---------------------------------\n",
      "(1, 21, 21, 128)\n",
      "3\n",
      "conv2d\n",
      "max_pooling2d\n",
      "dropout\n",
      "conv2d_1\n",
      "(21, 21)\n"
     ]
    },
    {
     "data": {
      "text/plain": [
       "<Figure size 1440x1440 with 0 Axes>"
      ]
     },
     "metadata": {},
     "output_type": "display_data"
    },
    {
     "name": "stdout",
     "output_type": "stream",
     "text": [
      "---------------------------------\n",
      "(1, 21, 21, 128)\n",
      "3\n",
      "conv2d\n",
      "max_pooling2d\n",
      "dropout\n",
      "conv2d_1\n",
      "max_pooling2d_1\n",
      "dropout_1\n",
      "conv2d_2\n",
      "(21, 21)\n"
     ]
    },
    {
     "data": {
      "text/plain": [
       "<Figure size 1440x1440 with 0 Axes>"
      ]
     },
     "metadata": {},
     "output_type": "display_data"
    },
    {
     "name": "stdout",
     "output_type": "stream",
     "text": [
      "---------------------------------\n",
      "---------------------------------------------------------------------------------------------------------------------------\n",
      "4\n"
     ]
    },
    {
     "data": {
      "image/png": "[encoded data removed]",
      "text/plain": [
       "<Figure size 432x216 with 2 Axes>"
      ]
     },
     "metadata": {},
     "output_type": "display_data"
    },
    {
     "name": "stdout",
     "output_type": "stream",
     "text": [
      "Classe - 0 | Confiança - 0.0 %\n",
      "Classe - 1 | Confiança - 0.0 %\n",
      "Classe - 2 | Confiança - 0.0 %\n",
      "Classe - 3 | Confiança - 0.0 %\n",
      "Classe - 4 | Confiança - 100.0 %\n",
      "Classe - 5 | Confiança - 0.0 %\n",
      "Classe - 6 | Confiança - 0.0 %\n",
      "Classe - 7 | Confiança - 0.0 %\n",
      "Classe - 8 | Confiança - 0.0 %\n",
      "Classe - 9 | Confiança - 0.0 %\n",
      "(1, 21, 21, 128)\n",
      "4\n",
      "conv2d\n",
      "(21, 21)\n"
     ]
    },
    {
     "data": {
      "text/plain": [
       "<Figure size 1440x1440 with 0 Axes>"
      ]
     },
     "metadata": {},
     "output_type": "display_data"
    },
    {
     "name": "stdout",
     "output_type": "stream",
     "text": [
      "---------------------------------\n",
      "(1, 21, 21, 128)\n",
      "4\n",
      "conv2d\n",
      "max_pooling2d\n",
      "dropout\n",
      "conv2d_1\n",
      "(21, 21)\n"
     ]
    },
    {
     "data": {
      "text/plain": [
       "<Figure size 1440x1440 with 0 Axes>"
      ]
     },
     "metadata": {},
     "output_type": "display_data"
    },
    {
     "name": "stdout",
     "output_type": "stream",
     "text": [
      "---------------------------------\n",
      "(1, 21, 21, 128)\n",
      "4\n",
      "conv2d\n",
      "max_pooling2d\n",
      "dropout\n",
      "conv2d_1\n",
      "max_pooling2d_1\n",
      "dropout_1\n",
      "conv2d_2\n",
      "(21, 21)\n"
     ]
    },
    {
     "data": {
      "text/plain": [
       "<Figure size 1440x1440 with 0 Axes>"
      ]
     },
     "metadata": {},
     "output_type": "display_data"
    },
    {
     "name": "stdout",
     "output_type": "stream",
     "text": [
      "---------------------------------\n",
      "---------------------------------------------------------------------------------------------------------------------------\n",
      "5\n"
     ]
    },
    {
     "data": {
      "image/png": "[encoded data removed]",
      "text/plain": [
       "<Figure size 432x216 with 2 Axes>"
      ]
     },
     "metadata": {},
     "output_type": "display_data"
    },
    {
     "name": "stdout",
     "output_type": "stream",
     "text": [
      "Classe - 0 | Confiança - 14.7 %\n",
      "Classe - 1 | Confiança - 0.82 %\n",
      "Classe - 2 | Confiança - 7.36 %\n",
      "Classe - 3 | Confiança - 10.07 %\n",
      "Classe - 4 | Confiança - 0.2 %\n",
      "Classe - 5 | Confiança - 41.83 %\n",
      "Classe - 6 | Confiança - 0.74 %\n",
      "Classe - 7 | Confiança - 3.88 %\n",
      "Classe - 8 | Confiança - 2.08 %\n",
      "Classe - 9 | Confiança - 18.33 %\n",
      "(1, 21, 21, 128)\n",
      "5\n",
      "conv2d\n",
      "(21, 21)\n"
     ]
    },
    {
     "data": {
      "text/plain": [
       "<Figure size 1440x1440 with 0 Axes>"
      ]
     },
     "metadata": {},
     "output_type": "display_data"
    },
    {
     "name": "stdout",
     "output_type": "stream",
     "text": [
      "---------------------------------\n",
      "(1, 21, 21, 128)\n",
      "5\n",
      "conv2d\n",
      "max_pooling2d\n",
      "dropout\n",
      "conv2d_1\n",
      "(21, 21)\n"
     ]
    },
    {
     "data": {
      "text/plain": [
       "<Figure size 1440x1440 with 0 Axes>"
      ]
     },
     "metadata": {},
     "output_type": "display_data"
    },
    {
     "name": "stdout",
     "output_type": "stream",
     "text": [
      "---------------------------------\n",
      "(1, 21, 21, 128)\n",
      "5\n",
      "conv2d\n",
      "max_pooling2d\n",
      "dropout\n",
      "conv2d_1\n",
      "max_pooling2d_1\n",
      "dropout_1\n",
      "conv2d_2\n",
      "(21, 21)\n"
     ]
    },
    {
     "data": {
      "text/plain": [
       "<Figure size 1440x1440 with 0 Axes>"
      ]
     },
     "metadata": {},
     "output_type": "display_data"
    },
    {
     "name": "stdout",
     "output_type": "stream",
     "text": [
      "---------------------------------\n",
      "---------------------------------------------------------------------------------------------------------------------------\n",
      "6\n"
     ]
    },
    {
     "data": {
      "image/png": "[encoded data removed]",
      "text/plain": [
       "<Figure size 432x216 with 2 Axes>"
      ]
     },
     "metadata": {},
     "output_type": "display_data"
    },
    {
     "name": "stdout",
     "output_type": "stream",
     "text": [
      "Classe - 0 | Confiança - 0.0 %\n",
      "Classe - 1 | Confiança - 0.0 %\n",
      "Classe - 2 | Confiança - 0.0 %\n",
      "Classe - 3 | Confiança - 0.0 %\n",
      "Classe - 4 | Confiança - 0.0 %\n",
      "Classe - 5 | Confiança - 99.99 %\n",
      "Classe - 6 | Confiança - 0.0 %\n",
      "Classe - 7 | Confiança - 0.0 %\n",
      "Classe - 8 | Confiança - 0.0 %\n",
      "Classe - 9 | Confiança - 0.0 %\n",
      "(1, 21, 21, 128)\n",
      "6\n",
      "conv2d\n",
      "(21, 21)\n"
     ]
    },
    {
     "data": {
      "text/plain": [
       "<Figure size 1440x1440 with 0 Axes>"
      ]
     },
     "metadata": {},
     "output_type": "display_data"
    },
    {
     "name": "stdout",
     "output_type": "stream",
     "text": [
      "---------------------------------\n",
      "(1, 21, 21, 128)\n",
      "6\n",
      "conv2d\n",
      "max_pooling2d\n",
      "dropout\n",
      "conv2d_1\n",
      "(21, 21)\n"
     ]
    },
    {
     "data": {
      "text/plain": [
       "<Figure size 1440x1440 with 0 Axes>"
      ]
     },
     "metadata": {},
     "output_type": "display_data"
    },
    {
     "name": "stdout",
     "output_type": "stream",
     "text": [
      "---------------------------------\n",
      "(1, 21, 21, 128)\n",
      "6\n",
      "conv2d\n",
      "max_pooling2d\n",
      "dropout\n",
      "conv2d_1\n",
      "max_pooling2d_1\n",
      "dropout_1\n",
      "conv2d_2\n",
      "(21, 21)\n"
     ]
    },
    {
     "data": {
      "text/plain": [
       "<Figure size 1440x1440 with 0 Axes>"
      ]
     },
     "metadata": {},
     "output_type": "display_data"
    },
    {
     "name": "stdout",
     "output_type": "stream",
     "text": [
      "---------------------------------\n",
      "---------------------------------------------------------------------------------------------------------------------------\n",
      "7\n"
     ]
    },
    {
     "data": {
      "image/png": "[encoded data removed]",
      "text/plain": [
       "<Figure size 432x216 with 2 Axes>"
      ]
     },
     "metadata": {},
     "output_type": "display_data"
    },
    {
     "name": "stdout",
     "output_type": "stream",
     "text": [
      "Classe - 0 | Confiança - 0.0 %\n",
      "Classe - 1 | Confiança - 0.0 %\n",
      "Classe - 2 | Confiança - 0.0 %\n",
      "Classe - 3 | Confiança - 0.0 %\n",
      "Classe - 4 | Confiança - 0.01 %\n",
      "Classe - 5 | Confiança - 0.0 %\n",
      "Classe - 6 | Confiança - 0.0 %\n",
      "Classe - 7 | Confiança - 99.89 %\n",
      "Classe - 8 | Confiança - 0.0 %\n",
      "Classe - 9 | Confiança - 0.1 %\n",
      "(1, 21, 21, 128)\n",
      "7\n",
      "conv2d\n",
      "(21, 21)\n"
     ]
    },
    {
     "data": {
      "text/plain": [
       "<Figure size 1440x1440 with 0 Axes>"
      ]
     },
     "metadata": {},
     "output_type": "display_data"
    },
    {
     "name": "stdout",
     "output_type": "stream",
     "text": [
      "---------------------------------\n",
      "(1, 21, 21, 128)\n",
      "7\n",
      "conv2d\n",
      "max_pooling2d\n",
      "dropout\n",
      "conv2d_1\n",
      "(21, 21)\n"
     ]
    },
    {
     "data": {
      "text/plain": [
       "<Figure size 1440x1440 with 0 Axes>"
      ]
     },
     "metadata": {},
     "output_type": "display_data"
    },
    {
     "name": "stdout",
     "output_type": "stream",
     "text": [
      "---------------------------------\n",
      "(1, 21, 21, 128)\n",
      "7\n",
      "conv2d\n",
      "max_pooling2d\n",
      "dropout\n",
      "conv2d_1\n",
      "max_pooling2d_1\n",
      "dropout_1\n",
      "conv2d_2\n",
      "(21, 21)\n"
     ]
    },
    {
     "data": {
      "text/plain": [
       "<Figure size 1440x1440 with 0 Axes>"
      ]
     },
     "metadata": {},
     "output_type": "display_data"
    },
    {
     "name": "stdout",
     "output_type": "stream",
     "text": [
      "---------------------------------\n",
      "---------------------------------------------------------------------------------------------------------------------------\n",
      "8\n"
     ]
    },
    {
     "data": {
      "image/png": "[encoded data removed]",
      "text/plain": [
       "<Figure size 432x216 with 2 Axes>"
      ]
     },
     "metadata": {},
     "output_type": "display_data"
    },
    {
     "name": "stdout",
     "output_type": "stream",
     "text": [
      "Classe - 0 | Confiança - 0.0 %\n",
      "Classe - 1 | Confiança - 0.0 %\n",
      "Classe - 2 | Confiança - 0.0 %\n",
      "Classe - 3 | Confiança - 0.0 %\n",
      "Classe - 4 | Confiança - 0.0 %\n",
      "Classe - 5 | Confiança - 0.0 %\n",
      "Classe - 6 | Confiança - 0.0 %\n",
      "Classe - 7 | Confiança - 0.0 %\n",
      "Classe - 8 | Confiança - 100.0 %\n",
      "Classe - 9 | Confiança - 0.0 %\n",
      "(1, 21, 21, 128)\n",
      "8\n",
      "conv2d\n",
      "(21, 21)\n"
     ]
    },
    {
     "data": {
      "text/plain": [
       "<Figure size 1440x1440 with 0 Axes>"
      ]
     },
     "metadata": {},
     "output_type": "display_data"
    },
    {
     "name": "stdout",
     "output_type": "stream",
     "text": [
      "---------------------------------\n",
      "(1, 21, 21, 128)\n",
      "8\n",
      "conv2d\n",
      "max_pooling2d\n",
      "dropout\n",
      "conv2d_1\n",
      "(21, 21)\n"
     ]
    },
    {
     "data": {
      "text/plain": [
       "<Figure size 1440x1440 with 0 Axes>"
      ]
     },
     "metadata": {},
     "output_type": "display_data"
    },
    {
     "name": "stdout",
     "output_type": "stream",
     "text": [
      "---------------------------------\n",
      "(1, 21, 21, 128)\n",
      "8\n",
      "conv2d\n",
      "max_pooling2d\n",
      "dropout\n",
      "conv2d_1\n",
      "max_pooling2d_1\n",
      "dropout_1\n",
      "conv2d_2\n",
      "(21, 21)\n"
     ]
    },
    {
     "data": {
      "text/plain": [
       "<Figure size 1440x1440 with 0 Axes>"
      ]
     },
     "metadata": {},
     "output_type": "display_data"
    },
    {
     "name": "stdout",
     "output_type": "stream",
     "text": [
      "---------------------------------\n",
      "---------------------------------------------------------------------------------------------------------------------------\n",
      "9\n"
     ]
    },
    {
     "data": {
      "image/png": "[encoded data removed]",
      "text/plain": [
       "<Figure size 432x216 with 2 Axes>"
      ]
     },
     "metadata": {},
     "output_type": "display_data"
    },
    {
     "name": "stdout",
     "output_type": "stream",
     "text": [
      "Classe - 0 | Confiança - 1.17 %\n",
      "Classe - 1 | Confiança - 1.0 %\n",
      "Classe - 2 | Confiança - 0.07 %\n",
      "Classe - 3 | Confiança - 0.5 %\n",
      "Classe - 4 | Confiança - 26.27 %\n",
      "Classe - 5 | Confiança - 1.08 %\n",
      "Classe - 6 | Confiança - 0.29 %\n",
      "Classe - 7 | Confiança - 3.03 %\n",
      "Classe - 8 | Confiança - 3.67 %\n",
      "Classe - 9 | Confiança - 62.92 %\n",
      "(1, 21, 21, 128)\n",
      "9\n",
      "conv2d\n",
      "(21, 21)\n"
     ]
    },
    {
     "data": {
      "text/plain": [
       "<Figure size 1440x1440 with 0 Axes>"
      ]
     },
     "metadata": {},
     "output_type": "display_data"
    },
    {
     "name": "stdout",
     "output_type": "stream",
     "text": [
      "---------------------------------\n",
      "(1, 21, 21, 128)\n",
      "9\n",
      "conv2d\n",
      "max_pooling2d\n",
      "dropout\n",
      "conv2d_1\n",
      "(21, 21)\n"
     ]
    },
    {
     "data": {
      "text/plain": [
       "<Figure size 1440x1440 with 0 Axes>"
      ]
     },
     "metadata": {},
     "output_type": "display_data"
    },
    {
     "name": "stdout",
     "output_type": "stream",
     "text": [
      "---------------------------------\n",
      "(1, 21, 21, 128)\n",
      "9\n",
      "conv2d\n",
      "max_pooling2d\n",
      "dropout\n",
      "conv2d_1\n",
      "max_pooling2d_1\n",
      "dropout_1\n",
      "conv2d_2\n",
      "(21, 21)\n"
     ]
    },
    {
     "data": {
      "text/plain": [
       "<Figure size 1440x1440 with 0 Axes>"
      ]
     },
     "metadata": {},
     "output_type": "display_data"
    },
    {
     "name": "stdout",
     "output_type": "stream",
     "text": [
      "---------------------------------\n",
      "---------------------------------------------------------------------------------------------------------------------------\n"
     ]
    }
   ],
   "source": [
    "for category in CATEGORIES:\n",
    "\n",
    "    true_label_num = CATEGORIES.index (category)\n",
    "    \n",
    "    DIR = TEST2_DIR + '/previsao ' + '(' + category + ').' + formato\n",
    "\n",
    "    xp, Xp = prepare(DIR)\n",
    "    Xp=np.array(Xp/255.0)\n",
    "    prediction = model.predict( Xp )\n",
    "    prev = prediction[0]\n",
    "\n",
    "    plt.figure(figsize=(6,3))\n",
    "    plt.subplot(1,2,1)\n",
    "\n",
    "    plot_image(prediction[0], true_label_num, xp)\n",
    "    plt.subplot(1,2,2)\n",
    "    plot_value_array(prediction[0],  true_label_num)\n",
    "    plt.show()\n",
    "\n",
    "    for i in range( len(prev) ):\n",
    "        pass\n",
    "        print( 'Classe - {} | Confiança - {} %'.format(CATEGORIES[i], np.round(prev[i]*100, 2) ) )\n",
    "#------------------------------------------------------------------\n",
    "    conv_model = models.Sequential()\n",
    "    for layer in model.layers:\n",
    "        \n",
    "        conv_model.add( layer )\n",
    "        \n",
    "        if 'conv' in layer.name:\n",
    "            feature_map = conv_model.predict ( Xp )\n",
    "            \n",
    "            #print(feature_map.shape)\n",
    "            print(conv_model.predict ( Xp ).shape)\n",
    "            \n",
    "            print(category)\n",
    "            \n",
    "            for lay in conv_model.layers:\n",
    "                print(lay.name)\n",
    "            \n",
    "            plt.figure(figsize=(20,20))\n",
    "            \n",
    "            #for i in range(feature_map.shape[3]):\n",
    "            for i in range(conv_model.predict ( Xp ).shape[3]):\n",
    "\n",
    "                #p = feature_map[0,:,:,i]\n",
    "                p = conv_model.predict( Xp )[0,:,:,i]\n",
    "\n",
    "                #plt.subplot(8,16,i+1)\n",
    "                #plt.xticks([])\n",
    "                #plt.yticks([])\n",
    "                #plt.grid(False)   \n",
    "                #plt.imshow(p, cmap='gray')\n",
    "            print(p.shape) \n",
    "            plt.show()\n",
    "\n",
    "            print('---------------------------------')\n",
    "    print('---------------------------------------------------------------------------------------------------------------------------')"
   ]
  },
  {
   "cell_type": "code",
   "execution_count": 7,
   "metadata": {},
   "outputs": [
    {
     "data": {
      "text/plain": [
       "\"    inp = model.inputs \\n    \\n    k=0\\n    for layer in model.layers:\\n        if 'conv' in layer.name: \\n            fig= plt.figure(figsize=(5,5))\\n            out = layer.output\\n            feature_map= Model(inputs= inp, outputs= out) \\n            \\n            \\n            \\n            f = feature_map.predict(Xp)\\n            \\n            \\n            \\n            \\n            print('Ativação na {}° camada'.format(k+1))\\n\\n            for i in range(f.shape[3]):\\n\\n                p = f[0,:,:,i]\\n\\n                ax = fig.add_subplot(8,8,i+1)\\n                ax.imshow(p, cmap='gray')\\n\\n                #plt.subplot(5,5,i+1)\\n                #plt.xticks([])\\n                #plt.yticks([])\\n                #plt.grid(False)   \\n                #plt.imshow(p, cmap=plt.cm.binary)\\n\\n            plt.show()\\n        k=k+1\\n    print('\\n\\n\\n')\""
      ]
     },
     "execution_count": 7,
     "metadata": {},
     "output_type": "execute_result"
    }
   ],
   "source": [
    "   \n",
    "#-----------------------------------------------------------------------------------------\n",
    "'''    inp = model.inputs \n",
    "    \n",
    "    k=0\n",
    "    for layer in model.layers:\n",
    "        if 'conv' in layer.name: \n",
    "            fig= plt.figure(figsize=(5,5))\n",
    "            out = layer.output\n",
    "            feature_map= Model(inputs= inp, outputs= out) \n",
    "            \n",
    "            \n",
    "            \n",
    "            f = feature_map.predict(Xp)\n",
    "            \n",
    "            \n",
    "            \n",
    "            \n",
    "            print('Ativação na {}° camada'.format(k+1))\n",
    "\n",
    "            for i in range(f.shape[3]):\n",
    "\n",
    "                p = f[0,:,:,i]\n",
    "\n",
    "                ax = fig.add_subplot(8,8,i+1)\n",
    "                ax.imshow(p, cmap='gray')\n",
    "\n",
    "                #plt.subplot(5,5,i+1)\n",
    "                #plt.xticks([])\n",
    "                #plt.yticks([])\n",
    "                #plt.grid(False)   \n",
    "                #plt.imshow(p, cmap=plt.cm.binary)\n",
    "\n",
    "            plt.show()\n",
    "        k=k+1\n",
    "    print('\\n\\n\\n')'''"
   ]
  }
 ],
 "metadata": {
  "kernelspec": {
   "display_name": "Python 3",
   "language": "python",
   "name": "python3"
  },
  "language_info": {
   "codemirror_mode": {
    "name": "ipython",
    "version": 3
   },
   "file_extension": ".py",
   "mimetype": "text/x-python",
   "name": "python",
   "nbconvert_exporter": "python",
   "pygments_lexer": "ipython3",
   "version": "3.6.9"
  }
 },
 "nbformat": 4,
 "nbformat_minor": 4
}
