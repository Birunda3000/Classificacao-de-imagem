{
 "cells": [
  {
   "cell_type": "code",
   "execution_count": 1,
   "metadata": {},
   "outputs": [],
   "source": [
    "import time\n",
    "import numpy as np\n",
    "import matplotlib.pyplot as plt\n",
    "import utils_img_rec as ut\n",
    "\n",
    "import pathlib\n",
    "import tensorflow as tf\n",
    "from tensorflow.keras.models import Sequential\n",
    "from tensorflow.keras.layers import Dense, Dropout, Activation, Flatten\n",
    "from tensorflow.keras.layers import Conv2D, MaxPooling2D, BatchNormalization\n",
    "from tensorflow.keras import layers, models, utils\n",
    "\n",
    "import pickle\n",
    "inicio = time.time()"
   ]
  },
  {
   "cell_type": "markdown",
   "metadata": {},
   "source": [
    "## Definindo Variaveis"
   ]
  },
  {
   "cell_type": "code",
   "execution_count": 2,
   "metadata": {},
   "outputs": [],
   "source": [
    "BATCH_SIZE = 5000\n",
    "EPOCHS = 3\n",
    "IMG_SIZE = 2\n",
    "numero_de_canais = 3\n",
    "teste_treino = True\n",
    "\n",
    "DATA_DIR = '../bases/pickle/imagens/cifar10/cifar10-train-3-2x2-pickle.pickle'\n",
    "\n",
    "TEST_DIR = '../bases/pickle/imagens/cifar10/cifar10-test-3-2x2-pickle.pickle'\n",
    "\n",
    "caminho_modelo = '../modelos_salvos/tensorflow'\n",
    "nome = 'modelo_cifar10'\n",
    "\n",
    "DATA_DIR = pathlib.Path(DATA_DIR)\n",
    "TEST_DIR = pathlib.Path(TEST_DIR)"
   ]
  },
  {
   "cell_type": "markdown",
   "metadata": {},
   "source": [
    "## Lendo e preparando os dados"
   ]
  },
  {
   "cell_type": "code",
   "execution_count": 3,
   "metadata": {},
   "outputs": [],
   "source": [
    "pickle_in = open(DATA_DIR,\"rb\")\n",
    "data_train = pickle.load(pickle_in)"
   ]
  },
  {
   "cell_type": "code",
   "execution_count": 4,
   "metadata": {},
   "outputs": [],
   "source": [
    "if teste_treino:\n",
    "    pickle_in = open(TEST_DIR,\"rb\")\n",
    "    data_test = pickle.load(pickle_in)"
   ]
  },
  {
   "cell_type": "code",
   "execution_count": 5,
   "metadata": {},
   "outputs": [
    {
     "name": "stdout",
     "output_type": "stream",
     "text": [
      "['airplane', 'automobile', 'bird', 'cat', 'deer', 'dog', 'frog', 'horse', 'ship', 'truck']\n"
     ]
    }
   ],
   "source": [
    "CATEGORIES = ut.get_classes(data_train)\n",
    "CATEGORIES.sort()\n",
    "try:\n",
    "    CATEGORIES.remove('.ipynb_checkpoints')\n",
    "except:\n",
    "    pass\n",
    "print(CATEGORIES)"
   ]
  },
  {
   "cell_type": "code",
   "execution_count": 6,
   "metadata": {},
   "outputs": [
    {
     "name": "stdout",
     "output_type": "stream",
     "text": [
      "Shape dos dados:  (30, 2, 2, 3)\n",
      "Entradas de treino - 30 - (2x2)\n"
     ]
    }
   ],
   "source": [
    "train_X, train_y = ut.prep_data(data_train, CATEGORIES, IMG_SIZE, numero_de_canais)\n",
    "#print(\"Number of training images: \",len(data_train))\n",
    "print('Entradas de treino - {} - ({}x{})'.format( train_X.shape[0], train_X.shape[1], train_X.shape[2] ))"
   ]
  },
  {
   "cell_type": "markdown",
   "metadata": {},
   "source": [
    "## Exibindo amostra dos dados de treino"
   ]
  },
  {
   "cell_type": "code",
   "execution_count": 7,
   "metadata": {},
   "outputs": [
    {
     "data": {
      "image/png": "[encoded data removed]",
      "text/plain": [
       "<Figure size 720x720 with 30 Axes>"
      ]
     },
     "metadata": {},
     "output_type": "display_data"
    }
   ],
   "source": [
    "plt.figure(figsize=(10,10))\n",
    "m = 70\n",
    "if( len(data_train) < 70 ):\n",
    "    m = len(data_train)\n",
    "for i in range(m):\n",
    "    plt.subplot(7,10,i+1)\n",
    "    plt.xticks([])\n",
    "    plt.yticks([])\n",
    "    plt.grid(False)\n",
    "    plt.imshow(data_train[i][0], cmap='gray')\n",
    "    plt.xlabel(\"{}\\n({})\".format( data_train[i][1] , data_train[i][2] ), color='white')    \n",
    "plt.show()"
   ]
  },
  {
   "cell_type": "code",
   "execution_count": 8,
   "metadata": {},
   "outputs": [
    {
     "name": "stdout",
     "output_type": "stream",
     "text": [
      "Shape dos dados:  (30, 2, 2, 3)\n",
      "Entradas de teste - 30 - (2x2)\n"
     ]
    }
   ],
   "source": [
    "if teste_treino:\n",
    "    test_X, test_y = ut.prep_data(data_test, CATEGORIES, IMG_SIZE, numero_de_canais)\n",
    "    #print(\"Number of test images: \",len(data_test))\n",
    "    print('Entradas de teste - {} - ({}x{})'.format( test_X.shape[0], test_X.shape[1], test_X.shape[2] ))"
   ]
  },
  {
   "cell_type": "markdown",
   "metadata": {},
   "source": [
    "## Exibindo amostra dos dados de teste"
   ]
  },
  {
   "cell_type": "code",
   "execution_count": 9,
   "metadata": {},
   "outputs": [
    {
     "data": {
      "image/png": "[encoded data removed]",
      "text/plain": [
       "<Figure size 720x720 with 30 Axes>"
      ]
     },
     "metadata": {},
     "output_type": "display_data"
    }
   ],
   "source": [
    "plt.figure(figsize=(10,10))\n",
    "m = 70\n",
    "if( len(data_test) < 70 ):\n",
    "    m = len(data_test)\n",
    "for i in range(m):\n",
    "    plt.subplot(7,10,i+1)\n",
    "    plt.xticks([])\n",
    "    plt.yticks([])\n",
    "    plt.grid(False)\n",
    "    plt.imshow(data_test[i][0], cmap='gray')\n",
    "    plt.xlabel(\"{}\\n({})\".format( data_test[i][1] , data_test[i][2] ), color='white')    \n",
    "plt.show()"
   ]
  },
  {
   "cell_type": "markdown",
   "metadata": {},
   "source": [
    "## Normalizando dados"
   ]
  },
  {
   "cell_type": "code",
   "execution_count": 10,
   "metadata": {},
   "outputs": [],
   "source": [
    "train_X=np.array(train_X/255.0)\n",
    "train_y=np.array(train_y)\n",
    "if teste_treino:\n",
    "    test_X=np.array(test_X/255.0)\n",
    "    test_y=np.array(test_y)"
   ]
  },
  {
   "cell_type": "markdown",
   "metadata": {},
   "source": [
    "## Modelo"
   ]
  },
  {
   "cell_type": "code",
   "execution_count": 11,
   "metadata": {},
   "outputs": [],
   "source": [
    "model = models.Sequential()\n",
    "model.add( layers.Conv2D(filters=64, kernel_size=(1, 1), activation='relu', input_shape=(test_X.shape[1:])))\n",
    "#model.add( layers.MaxPooling2D((2, 2)))\n",
    "\n",
    "#model.add( layers.Dropout(rate=0.2) )\n",
    "\n",
    "#model.add( layers.Conv2D(filters=128, kernel_size=(8, 8), activation='relu'))\n",
    "#model.add( layers.MaxPooling2D((2, 2)))\n",
    "\n",
    "#model.add( layers.Dropout(rate=0.25) )\n",
    "\n",
    "#model.add( layers.Conv2D(filters=32, kernel_size=(2, 2), activation='relu'))\n",
    "#model.add( layers.MaxPooling2D((2, 2)))\n",
    "\n",
    "#model.add( layers.Dropout(rate=0.2) )\n",
    "\n",
    "model.add( layers.Flatten( ) )\n",
    "#model.add( layers.Dense(60000, activation='relu') )\n",
    "#model.add( layers.Dropout(rate=0.4) )\n",
    "\n",
    "model.add( layers.Dense(1100, activation='relu') )\n",
    "model.add( layers.Dropout(rate=0.1) )\n",
    "\n",
    "model.add( layers.Dense(128, activation='relu') )\n",
    "model.add( layers.Dense(len(CATEGORIES) , activation='softmax') )"
   ]
  },
  {
   "cell_type": "markdown",
   "metadata": {},
   "source": [
    "## Realizando o treino"
   ]
  },
  {
   "cell_type": "code",
   "execution_count": 12,
   "metadata": {},
   "outputs": [
    {
     "name": "stdout",
     "output_type": "stream",
     "text": [
      "Epoch 1/3\n",
      "1/1 [==============================] - 1s 554ms/step - loss: 2.3075 - accuracy: 0.1333 - val_loss: 2.2985 - val_accuracy: 0.0667\n",
      "Epoch 2/3\n",
      "1/1 [==============================] - 0s 35ms/step - loss: 2.2708 - accuracy: 0.2000 - val_loss: 2.2957 - val_accuracy: 0.1667\n",
      "Epoch 3/3\n",
      "1/1 [==============================] - 0s 31ms/step - loss: 2.2331 - accuracy: 0.3000 - val_loss: 2.2917 - val_accuracy: 0.1333\n"
     ]
    }
   ],
   "source": [
    "#opt = tf.keras.optimizers.SGD(\n",
    "#    learning_rate=0.01, momentum=0.1, nesterov=False, name=\"SGD\")\n",
    "model.compile(loss='categorical_crossentropy', optimizer='adam',  metrics=['accuracy'])\n",
    "if  teste_treino:\n",
    "    history = model.fit(train_X, train_y, batch_size=BATCH_SIZE, epochs=EPOCHS, validation_data=(test_X, test_y))\n",
    "else:\n",
    "    history = model.fit(train_X, train_y, batch_size=BATCH_SIZE, epochs=EPOCHS, validation_split=0.2)"
   ]
  },
  {
   "cell_type": "markdown",
   "metadata": {},
   "source": [
    "## Grafico do treino"
   ]
  },
  {
   "cell_type": "code",
   "execution_count": 13,
   "metadata": {},
   "outputs": [
    {
     "data": {
      "text/plain": [
       "<matplotlib.legend.Legend at 0x7fd5979e27b8>"
      ]
     },
     "execution_count": 13,
     "metadata": {},
     "output_type": "execute_result"
    },
    {
     "data": {
      "image/png": "[encoded data removed]",
      "text/plain": [
       "<Figure size 432x288 with 1 Axes>"
      ]
     },
     "metadata": {
      "needs_background": "light"
     },
     "output_type": "display_data"
    }
   ],
   "source": [
    "plt.plot(history.history['accuracy'], label='accuracy')\n",
    "plt.plot(history.history['val_accuracy'], label = 'val_accuracy')\n",
    "plt.xlabel('Epoch')\n",
    "plt.ylabel('Accuracy')\n",
    "plt.ylim([0.45, 1])\n",
    "plt.legend(loc='lower right')"
   ]
  },
  {
   "cell_type": "code",
   "execution_count": 14,
   "metadata": {},
   "outputs": [
    {
     "name": "stdout",
     "output_type": "stream",
     "text": [
      "1/1 [==============================] - 0s 16ms/step - loss: 2.2917 - accuracy: 0.1333\n"
     ]
    }
   ],
   "source": [
    "test_loss, test_acc = model.evaluate(test_X, test_y, verbose=1)\n",
    "\n",
    "nome_saida = caminho_modelo+nome+' - val_acc = '+   str(round(test_acc, 6))  +'.h5'\n",
    "#nome_saida = caminho_modelo+nome+'.h5'\n",
    "\n",
    "#model.save(nome_saida)\n",
    "#print('Salvo como: ',nome_saida)"
   ]
  },
  {
   "cell_type": "code",
   "execution_count": 15,
   "metadata": {},
   "outputs": [
    {
     "name": "stdout",
     "output_type": "stream",
     "text": [
      "Tempo de execução:  3.772434949874878\n"
     ]
    }
   ],
   "source": [
    "print('Tempo de execução: ', time.time() - inicio)"
   ]
  }
 ],
 "metadata": {
  "kernelspec": {
   "display_name": "Python 3",
   "language": "python",
   "name": "python3"
  },
  "language_info": {
   "codemirror_mode": {
    "name": "ipython",
    "version": 3
   },
   "file_extension": ".py",
   "mimetype": "text/x-python",
   "name": "python",
   "nbconvert_exporter": "python",
   "pygments_lexer": "ipython3",
   "version": "3.6.9"
  }
 },
 "nbformat": 4,
 "nbformat_minor": 4
}
